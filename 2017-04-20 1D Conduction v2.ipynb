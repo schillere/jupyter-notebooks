{
 "cells": [
  {
   "cell_type": "markdown",
   "metadata": {},
   "source": [
    "# 1D Conduction\n",
    "\n",
    "Fundamentals of Heat and Mass Transfer, Incropera, DeWitt, 4th Edition, Example 1.5, page 20"
   ]
  },
  {
   "cell_type": "code",
   "execution_count": 1,
   "metadata": {},
   "outputs": [],
   "source": [
    "#clear out everything\n",
    "%reset -f"
   ]
  },
  {
   "cell_type": "code",
   "execution_count": 2,
   "metadata": {},
   "outputs": [],
   "source": [
    "import math\n",
    "from sympy import *"
   ]
  },
  {
   "cell_type": "code",
   "execution_count": 3,
   "metadata": {
    "scrolled": false
   },
   "outputs": [],
   "source": [
    "#import everything\n",
    "from __future__ import division\n",
    "from sympy.abc import *\n",
    "import numpy as np\n",
    "import matplotlib.pyplot as plt\n",
    "import platform\n",
    "from IPython.display import display"
   ]
  },
  {
   "cell_type": "code",
   "execution_count": 5,
   "metadata": {},
   "outputs": [],
   "source": [
    "from my_unit_conversions import * #custom .py file with unit conversions"
   ]
  },
  {
   "cell_type": "code",
   "execution_count": 6,
   "metadata": {
    "scrolled": true
   },
   "outputs": [],
   "source": [
    "init_printing() #print prettier output"
   ]
  },
  {
   "cell_type": "code",
   "execution_count": 7,
   "metadata": {},
   "outputs": [],
   "source": [
    "%matplotlib inline"
   ]
  },
  {
   "cell_type": "code",
   "execution_count": 8,
   "metadata": {},
   "outputs": [],
   "source": [
    "#declare symbols\n",
    "var('q_cond q_conv q_radx k T1 T2 L h Tinf emiss SBC Tsur');"
   ]
  },
  {
   "cell_type": "code",
   "execution_count": 9,
   "metadata": {},
   "outputs": [],
   "source": [
    "#heat transfer equations per unit area\n",
    "q_cond = k*(T1-T2)/L\n",
    "q_conv = h*(T2-Tinf)\n",
    "q_rad = emiss*SBC*(T2**4-Tsur**4)"
   ]
  },
  {
   "cell_type": "code",
   "execution_count": 10,
   "metadata": {},
   "outputs": [],
   "source": [
    "#eq1 = 0\n",
    "eq1 = q_cond - q_conv - q_rad"
   ]
  },
  {
   "cell_type": "code",
   "execution_count": 11,
   "metadata": {},
   "outputs": [],
   "source": [
    "#solve for T2\n",
    "T2_result = solve(eq1,T2)\n",
    "T2 = T2_result[1] #take 2nd of 4 solutions"
   ]
  },
  {
   "cell_type": "code",
   "execution_count": 12,
   "metadata": {},
   "outputs": [
    {
     "name": "stdout",
     "output_type": "stream",
     "text": [
      "T2 = 212 F\n"
     ]
    }
   ],
   "source": [
    "#Values in preferred units\n",
    "_T1 = 665.33 #F, temperature of hot surface\n",
    "_Tinf = 25 #C, temperature of surrounding air\n",
    "_Tsur = 25 #C, temperature of surrounding surface\n",
    "_L = 5.9055118 #in, thickness/length of material\n",
    "_k = 1.2 #W/mK, thermal conductivity (31.1 for Haynes 160, 0.3 for K23-HS)\n",
    "_h = 20 #W/m2K, convection coefficient (14 ~10mph air blowing across section)\n",
    "_emiss = 0.8 #emissivity\n",
    "_SBC = 5.67E-8 #W/m2K4, Stefan Boltzman constant\n",
    "\n",
    "#corrected units for equation\n",
    "_T1 = funFtoK(_T1) #K\n",
    "_Tinf = funCtoK(_Tinf) #K\n",
    "_Tsur = funCtoK(_Tsur) #K\n",
    "_L = funINtoM(_L) #m\n",
    "\n",
    "subsList = {T1:_T1,L:_L,k:_k,Tinf:_Tinf,Tsur:_Tsur,h:_h,emiss:_emiss,SBC:_SBC}\n",
    "_T2 = T2.subs(subsList) #K\n",
    "print(\"T2 = \" + \"%.0f\" % funKtoF(_T2) + \" F\") #show 0 digits after decimal point"
   ]
  },
  {
   "cell_type": "markdown",
   "metadata": {},
   "source": [
    "## Our Application"
   ]
  },
  {
   "cell_type": "code",
   "execution_count": 13,
   "metadata": {},
   "outputs": [
    {
     "name": "stdout",
     "output_type": "stream",
     "text": [
      "T2 = 589 F\n"
     ]
    }
   ],
   "source": [
    "#Values in preferred units\n",
    "_T1 = 2200 #F, temperature of hot surface\n",
    "_Tinf = 25 #C, temperature of surrounding air\n",
    "_Tsur = 25 #C, temperature of surrounding surface\n",
    "_L = 1 #in, thickness/length of material\n",
    "_k = 0.3 #W/mK, thermal conductivity (31.1 for Haynes 160, 0.3 for K23-HS)\n",
    "_h = 20 #W/m2K, convection coefficient (14 ~10mph air blowing across section)\n",
    "_emiss = 0.8 #emissivity\n",
    "_SBC = 5.67E-8 #W/m2K4, Stefan Boltzman constant\n",
    "\n",
    "#corrected units for equation\n",
    "_T1 = funFtoK(_T1) #K\n",
    "_Tinf = funCtoK(_Tinf) #K\n",
    "_Tsur = funCtoK(_Tsur) #K\n",
    "_L = funINtoM(_L) #m\n",
    "\n",
    "subsList = {T1:_T1,L:_L,k:_k,Tinf:_Tinf,Tsur:_Tsur,h:_h,emiss:_emiss,SBC:_SBC}\n",
    "_T2 = T2.subs(subsList) #K\n",
    "print(\"T2 = \" + \"%.0f\" % funKtoF(_T2) + \" F\") #show 0 digits after decimal point"
   ]
  }
 ],
 "metadata": {
  "hide_input": false,
  "kernelspec": {
   "display_name": "Python 3",
   "language": "python",
   "name": "python3"
  },
  "language_info": {
   "codemirror_mode": {
    "name": "ipython",
    "version": 3
   },
   "file_extension": ".py",
   "mimetype": "text/x-python",
   "name": "python",
   "nbconvert_exporter": "python",
   "pygments_lexer": "ipython3",
   "version": "3.7.7"
  },
  "toc": {
   "base_numbering": 1,
   "nav_menu": {},
   "number_sections": true,
   "sideBar": true,
   "skip_h1_title": false,
   "title_cell": "Table of Contents",
   "title_sidebar": "Contents",
   "toc_cell": false,
   "toc_position": {},
   "toc_section_display": true,
   "toc_window_display": false
  },
  "widgets": {
   "state": {},
   "version": "1.1.2"
  }
 },
 "nbformat": 4,
 "nbformat_minor": 1
}
