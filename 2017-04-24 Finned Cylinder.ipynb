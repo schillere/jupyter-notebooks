{
 "cells": [
  {
   "cell_type": "markdown",
   "metadata": {},
   "source": [
    "# Finned Cylinder\n",
    "Fundamentals of Heat and Mass Transfer, Incropera, DeWitt, 4th Edition, Example 3.9, page 129"
   ]
  },
  {
   "cell_type": "code",
   "execution_count": 1,
   "metadata": {
    "collapsed": true
   },
   "outputs": [],
   "source": [
    "#clear out everything\n",
    "%reset -f\n",
    "import math\n",
    "from sympy import * #import everything\n",
    "from __future__ import division\n",
    "from sympy.abc import *\n",
    "import numpy as np\n",
    "import matplotlib.pyplot as plt\n",
    "import platform\n",
    "from IPython.display import display\n",
    "from UnitConversion import * #custom .py file with unit conversions\n",
    "init_printing() #print prettier output\n",
    "%matplotlib inline"
   ]
  },
  {
   "cell_type": "code",
   "execution_count": 2,
   "metadata": {
    "collapsed": false
   },
   "outputs": [],
   "source": [
    "#declare symbols\n",
    "var('q_t h A_t N A_f eta_F theta_b r_2 r_2c r_1 pi L t Lfin Lfin_c A_p q_wo T_inf T_b q_wo k');"
   ]
  },
  {
   "cell_type": "code",
   "execution_count": 3,
   "metadata": {
    "collapsed": false
   },
   "outputs": [],
   "source": [
    "q_t = h * A_t * (1-(N*A_f / A_t)*(1-eta_F))*theta_b #Eq 3.101"
   ]
  },
  {
   "cell_type": "code",
   "execution_count": 4,
   "metadata": {
    "collapsed": false
   },
   "outputs": [
    {
     "data": {
      "image/png": "[encoded data removed]",
      "text/latex": [
       "$$A_{f} N + 2 \\pi r_{1} \\left(L - N t\\right)$$"
      ],
      "text/plain": [
       "A_f⋅N + 2⋅π⋅r₁⋅(L - N⋅t)"
      ]
     },
     "execution_count": 4,
     "metadata": {},
     "output_type": "execute_result"
    }
   ],
   "source": [
    "#area total\n",
    "A_t = N * A_f + 2 * pi * r_1 * (L - N*t)\n",
    "A_t"
   ]
  },
  {
   "cell_type": "code",
   "execution_count": 5,
   "metadata": {
    "collapsed": false
   },
   "outputs": [
    {
     "data": {
      "image/png": "[encoded data removed]",
      "text/latex": [
       "$$2 \\pi \\left(- r_{1}^{2} + r_{2c}^{2}\\right)$$"
      ],
      "text/plain": [
       "    ⎛    2       2⎞\n",
       "2⋅π⋅⎝- r₁  + r_2c ⎠"
      ]
     },
     "execution_count": 5,
     "metadata": {},
     "output_type": "execute_result"
    }
   ],
   "source": [
    "#area fin\n",
    "A_f = 2*pi*(r_2c**2 - r_1**2)\n",
    "A_f"
   ]
  },
  {
   "cell_type": "code",
   "execution_count": 6,
   "metadata": {
    "collapsed": false
   },
   "outputs": [],
   "source": [
    "r_2c = r_2 + t/2 #Figure 3.19, page 123\n",
    "Lfin = r_2 - r_1\n",
    "Lfin_c = Lfin + t/2\n",
    "A_p = Lfin_c * t"
   ]
  },
  {
   "cell_type": "code",
   "execution_count": 7,
   "metadata": {
    "collapsed": false
   },
   "outputs": [],
   "source": [
    "#Values in preferred units\n",
    "_L = 0.15 #m, finned tube length\n",
    "_t = 6/1000 #m, fin thickness\n",
    "_r_1 = 25/1000 #m, radius to base of fin\n",
    "_r_2 = 45/1000 #m, radius to tip of fin\n",
    "_T_b = 500 #K\n",
    "_T_inf = 300 #K\n",
    "_h = 50 #W/m2K\n",
    "_k = 186 #W/mK\n",
    "_pi = math.pi #constant\n",
    "_N = 5 #fin count\n",
    "\n",
    "_theta_b = _T_b - _T_inf #K, must be in K, don't convert, temperature at base of fin (bottom of Table 3.4, page 118)\n",
    "\n",
    "subsList = {L:_L, t:_t, r_1:_r_1, r_2:_r_2, T_b:_T_b, T_inf:_T_inf, h:_h, k:_k, pi:_pi, N:_N, theta_b:_theta_b}"
   ]
  },
  {
   "cell_type": "code",
   "execution_count": 8,
   "metadata": {
    "collapsed": false
   },
   "outputs": [],
   "source": [
    "#evaluate intermediate quatities\n",
    "_r_2c = r_2c.subs(subsList)\n",
    "_Lfin_c = Lfin_c.subs(subsList)\n",
    "_A_p = A_p.subs(subsList)"
   ]
  },
  {
   "cell_type": "code",
   "execution_count": 9,
   "metadata": {
    "collapsed": false
   },
   "outputs": [],
   "source": [
    "#add to subsList\n",
    "subsList.update({'r_2c':_r_2c, 'Lfin_c':_Lfin_c, 'A_p':_A_p})"
   ]
  },
  {
   "cell_type": "code",
   "execution_count": 10,
   "metadata": {
    "collapsed": false
   },
   "outputs": [
    {
     "name": "stdout",
     "output_type": "stream",
     "text": [
      "A_f = 0.01055 m^2\n",
      "A_t = 0.07160 m^2\n"
     ]
    }
   ],
   "source": [
    "_A_f = A_f.subs(subsList)\n",
    "subsList.update({'A_f':_A_f})\n",
    "print \"A_f = \" + \"%.5f\" % _A_f + \" m^2\" #show N digits after decimal point\n",
    "\n",
    "_A_t = A_t.subs(subsList)\n",
    "subsList.update({'A_t':_A_t})\n",
    "print \"A_t = \" + \"%.5f\" % _A_t + \" m^2\" #show N digits after decimal point"
   ]
  },
  {
   "cell_type": "code",
   "execution_count": 11,
   "metadata": {
    "collapsed": false
   },
   "outputs": [
    {
     "data": {
      "image/png": "[encoded data removed]",
      "text/latex": [
       "$$1.92$$"
      ],
      "text/plain": [
       "1.92000000000000"
      ]
     },
     "execution_count": 11,
     "metadata": {},
     "output_type": "execute_result"
    }
   ],
   "source": [
    "#estimate fin efficiency\n",
    "efficiency_function = Lfin_c**(3/2)*(h/(k*A_p))**0.5\n",
    "efficiency_function.subs(subsList)\n",
    "fltFinAspectRatio = r_2c/r_1\n",
    "fltFinAspectRatio.subs(subsList)"
   ]
  },
  {
   "cell_type": "code",
   "execution_count": 12,
   "metadata": {
    "collapsed": true
   },
   "outputs": [],
   "source": [
    "#from Figure 3.19 on page 123, fin efficiency ~0.95\n",
    "_eta_F = 0.95\n",
    "subsList.update({'eta_F':_eta_F})"
   ]
  },
  {
   "cell_type": "code",
   "execution_count": 13,
   "metadata": {
    "collapsed": false
   },
   "outputs": [
    {
     "name": "stdout",
     "output_type": "stream",
     "text": [
      "q_t = 690 W\n"
     ]
    }
   ],
   "source": [
    "#convective heat transfer rate with fins\n",
    "_q_t = q_t.subs(subsList)\n",
    "print \"q_t = \" + \"%.0f\" % _q_t + \" W\" #show N digits after decimal point"
   ]
  },
  {
   "cell_type": "code",
   "execution_count": 14,
   "metadata": {
    "collapsed": false
   },
   "outputs": [
    {
     "name": "stdout",
     "output_type": "stream",
     "text": [
      "q_wo = 236 W\n"
     ]
    }
   ],
   "source": [
    "#heat transfer without fins\n",
    "q_wo = h*2*pi*r_1*L*theta_b\n",
    "_q_wo = q_wo.subs(subsList)\n",
    "print \"q_wo = \" + \"%.0f\" % _q_wo + \" W\" #show N digits after decimal point"
   ]
  },
  {
   "cell_type": "markdown",
   "metadata": {},
   "source": [
    "## Now for Our Application"
   ]
  },
  {
   "cell_type": "markdown",
   "metadata": {
    "collapsed": true
   },
   "source": [
    "### How to get temperature for this rate?\n",
    "### How much air do I need for this?\n",
    "### How much length?"
   ]
  },
  {
   "cell_type": "code",
   "execution_count": 15,
   "metadata": {
    "collapsed": false
   },
   "outputs": [],
   "source": [
    "#declare symbols\n",
    "var('q_cond q_conv q_radx T1 T2 r_0 emiss SBC Tsur A_cond A_rad A_conv');"
   ]
  },
  {
   "cell_type": "code",
   "execution_count": 16,
   "metadata": {
    "collapsed": false
   },
   "outputs": [
    {
     "name": "stdout",
     "output_type": "stream",
     "text": [
      "A_cond = 0.02736 m^2\n",
      "A_rad = 0.02071 m^2\n",
      "A_f = 0.16717 m^2\n",
      "A_t = 0.18097 m^2\n",
      "fin efficiency graph (abscissa) = 0.43\n",
      "fin aspect ratio = 1.1\n"
     ]
    }
   ],
   "source": [
    "#initialize results arrays\n",
    "arrT1 = []\n",
    "arrT2 = []\n",
    "arrFinCount = []\n",
    "\n",
    "#Values in preferred units\n",
    "_T1 = 2200 #F, temperature of hot surface\n",
    "_T_inf = 77 #F, temperature of surrounding air\n",
    "_Tsur = 77 #F, temperature of surrounding surface\n",
    "_T_b = 2200 #F, temperature of base of fin\n",
    "\n",
    "_L = .375 #in, finned tube length\n",
    "\n",
    "_t = .125 #in, fin thickness\n",
    "_r_0 = 24.25/2 #in, radius internal\n",
    "_r_1 = 27.25/2 #in, radius to base of fin\n",
    "_r_2 = 30/2 #in, radius to tip of fin\n",
    "\n",
    "_h = 14 #W/m2K, convection coefficient (14 ~10mph air blowing across section)\n",
    "_k = 31.1 #W/mK, thermal conductivity (31.1 for Haynes 160, 0.3 for K23-HS)\n",
    "_pi = math.pi #constant\n",
    "_N = 1 #fin count\n",
    "_emiss = 0.8 #emissivity\n",
    "_SBC = 5.67E-8 #W/m2K4, Stefan Boltzman constant\n",
    "\n",
    "\n",
    "#corrected units for equation\n",
    "_T1 = funFtoK(_T1) #K\n",
    "_T_inf = funFtoK(_T_inf) #K\n",
    "_Tsur = funFtoK(_Tsur) #K\n",
    "_T_b = funFtoK(_T_b) #K\n",
    "_L = funINtoM(_L) #m\n",
    "_t = funINtoM(_t) #m\n",
    "_r_0 = funINtoM(_r_0) #m\n",
    "_r_1 = funINtoM(_r_1) #m\n",
    "_r_2 = funINtoM(_r_2) #m\n",
    "\n",
    "_theta_b = _T_b - _T_inf #K, must be in K, don't convert, temperature at base of fin (bottom of Table 3.4, page 118)\n",
    "\n",
    "#update subslist\n",
    "subsList.update({L:_L, t:_t, r_0:_r_0, r_1:_r_1, r_2:_r_2, T_b:_T_b, T_inf:_T_inf, h:_h, k:_k, pi:_pi, N:_N, theta_b:_theta_b})\n",
    "subsList.update({T1:_T1,Tsur:_Tsur,emiss:_emiss,SBC:_SBC})\n",
    "\n",
    "#evaluate intermediate quatities\n",
    "_r_2c = r_2c.subs(subsList)\n",
    "_Lfin_c = Lfin_c.subs(subsList)\n",
    "_A_p = A_p.subs(subsList)\n",
    "subsList.update({'r_2c':_r_2c, 'Lfin_c':_Lfin_c, 'A_p':_A_p})\n",
    "\n",
    "#areas\n",
    "#A_cond = pi*(r_1**2 - r_0**2) #area for conduction along tube\n",
    "A_cond = 24*pi*(funINtoM(1.5/2))**2 #area of just 1.5\" rods x 24\n",
    "\n",
    "A_rad = pi*2*r_1*L #assume fins aren't there for radiation purposes\n",
    "_A_cond = A_cond.subs(subsList)\n",
    "_A_rad = A_rad.subs(subsList)\n",
    "subsList.update({'A_cond':_A_cond, 'A_rad':_A_rad})\n",
    "print \"A_cond = \" + \"%.5f\" % _A_cond + \" m^2\" #show N digits after decimal point\n",
    "print \"A_rad = \" + \"%.5f\" % _A_rad + \" m^2\" #show N digits after decimal point\n",
    "\n",
    "##for verifying Fundamentals of Heat and Mass Transfer, Incropera, DeWitt, 4th Edition, Example 1.5, page 20 still works\n",
    "#A_rad = A_cond\n",
    "#A_conv = A_cond\n",
    "#_A_conv = A_conv.subs(subsList)\n",
    "#print \"A_conv = \" + \"%.5f\" % _A_conv + \" m^2\" #show N digits after decimal point\n",
    "\n",
    "_A_f = A_f.subs(subsList)\n",
    "subsList.update({'A_f':_A_f})\n",
    "_A_t = A_t.subs(subsList)\n",
    "subsList.update({'A_t':_A_t})\n",
    "\n",
    "print \"A_f = \" + \"%.5f\" % _A_f + \" m^2\" #show N digits after decimal point\n",
    "print \"A_t = \" + \"%.5f\" % _A_t + \" m^2\" #show N digits after decimal point\n",
    "\n",
    "#estimate fin efficiency\n",
    "print \"fin efficiency graph (abscissa) = \" + \"%.2f\" % efficiency_function.subs(subsList)\n",
    "print \"fin aspect ratio = \" + \"%.1f\" % fltFinAspectRatio.subs(subsList)"
   ]
  },
  {
   "cell_type": "code",
   "execution_count": 17,
   "metadata": {
    "collapsed": true
   },
   "outputs": [],
   "source": [
    "#from Figure 3.19 on page 123, fin efficiency:\n",
    "#deeper fins increases the area and heat transfer faster than efficiency falls off\n",
    "_eta_F = 0.85\n",
    "subsList.update({'eta_F':_eta_F})"
   ]
  },
  {
   "cell_type": "code",
   "execution_count": 18,
   "metadata": {
    "collapsed": false
   },
   "outputs": [
    {
     "name": "stdout",
     "output_type": "stream",
     "text": [
      "q_t = 2574 W\n",
      "q_wo = 342 W\n"
     ]
    }
   ],
   "source": [
    "#convective heat transfer rate with fins\n",
    "_q_t = q_t.subs(subsList)\n",
    "print \"q_t = \" + \"%.0f\" % _q_t + \" W\" #show N digits after decimal point\n",
    "\n",
    "#heat transfer without fins\n",
    "_q_wo = q_wo.subs(subsList)\n",
    "print \"q_wo = \" + \"%.0f\" % _q_wo + \" W\" #show N digits after decimal point"
   ]
  },
  {
   "cell_type": "code",
   "execution_count": 19,
   "metadata": {
    "collapsed": false
   },
   "outputs": [],
   "source": [
    "#heat transfer equations\n",
    "#T1 = hot, T2 = cold\n",
    "q_cond = k*A_cond*(T1-T2)/L\n",
    "\n",
    "q_conv = q_t #with fins\n",
    "#q_conv = q_wo #without fins\n",
    "#for verifying Fundamentals of Heat and Mass Transfer, Incropera, DeWitt, 4th Edition, Example 1.5, page 20 still works\n",
    "#q_conv = h*A_conv*(T2-T_inf)\n",
    "\n",
    "q_rad = emiss*SBC*A_rad*(T2**4-Tsur**4)\n",
    "\n",
    "#eq1 = 0\n",
    "eq1 = q_cond - q_conv #- q_rad\n",
    "_eq1 = eq1.subs(subsList)\n",
    "#_eq1"
   ]
  },
  {
   "cell_type": "code",
   "execution_count": 20,
   "metadata": {
    "collapsed": false
   },
   "outputs": [
    {
     "name": "stdout",
     "output_type": "stream",
     "text": [
      "fin_count = 1\n",
      "T1 = 2200 F\n",
      "T2 = 2148 F\n"
     ]
    }
   ],
   "source": [
    "#set overall fin count\n",
    "fin_count = 1\n",
    "\n",
    "#solve for T2\n",
    "result = solve(_eq1,T2)\n",
    "_T2 = result[0] #2nd of 4 solutions (only 1 if eliminate radiation)\n",
    "print \"fin_count = \" + \"%.0f\" % fin_count #show 0 digits after decimal point\n",
    "print \"T1 = \" + \"%.0f\" % funKtoF(_T1) + \" F\" #show 0 digits after decimal point\n",
    "print \"T2 = \" + \"%.0f\" % funKtoF(_T2) + \" F\" #show 0 digits after decimal point\n",
    "\n",
    "#store results\n",
    "arrT1.append(funKtoF(_T1))\n",
    "arrT2.append(funKtoF(_T2))\n",
    "arrFinCount.append(fin_count)"
   ]
  },
  {
   "cell_type": "markdown",
   "metadata": {},
   "source": [
    "# Now add more fins, with previous starting conditions"
   ]
  },
  {
   "cell_type": "code",
   "execution_count": 21,
   "metadata": {
    "collapsed": false
   },
   "outputs": [
    {
     "name": "stdout",
     "output_type": "stream",
     "text": [
      "fin_count = 100\n",
      "finned length = 37.5\n",
      "T2 = 256 F\n"
     ]
    }
   ],
   "source": [
    "#loop\n",
    "for x in range(1, 100):\n",
    "    #add a fin\n",
    "    fin_count += 1\n",
    "\n",
    "    #Values in preferred units\n",
    "    _T1 = funKtoF(_T2) #F, temperature of hot surface\n",
    "    _T_b = _T1 #F, temperature of base of fin\n",
    "\n",
    "    #corrected units for equation\n",
    "    _T1 = funFtoK(_T1) #K\n",
    "    _T_b = funFtoK(_T_b) #K\n",
    "    _theta_b = _T_b - _T_inf #K, must be in K, don't convert, temperature at base of fin (bottom of Table 3.4, page 118)\n",
    "\n",
    "    #update subslist\n",
    "    subsList.update({T_b:_T_b, theta_b:_theta_b, T1:_T1})\n",
    " \n",
    "    #evaluate intermediate quatities\n",
    "    _r_2c = r_2c.subs(subsList)\n",
    "    _Lfin_c = Lfin_c.subs(subsList)\n",
    "    _A_p = A_p.subs(subsList)\n",
    "    subsList.update({'r_2c':_r_2c, 'Lfin_c':_Lfin_c, 'A_p':_A_p})\n",
    "\n",
    "    #areas\n",
    "    _A_cond = A_cond.subs(subsList)\n",
    "    _A_rad = A_rad.subs(subsList)\n",
    "    subsList.update({'A_cond':_A_cond, 'A_rad':_A_rad})\n",
    "\n",
    "    _A_f = A_f.subs(subsList)\n",
    "    subsList.update({'A_f':_A_f})\n",
    "    _A_t = A_t.subs(subsList)\n",
    "    subsList.update({'A_t':_A_t})\n",
    "\n",
    "    _q_t = q_t.subs(subsList) #convective heat transfer rate with fins\n",
    "    _q_wo = q_wo.subs(subsList) #heat transfer without fins\n",
    "    #print \"q_t = \" + \"%.0f\" % _q_t + \" W\" #show N digits after decimal point\n",
    "    #print \"q_wo = \" + \"%.0f\" % _q_wo + \" W\" #show N digits after decimal point\n",
    "\n",
    "    _eq1 = eq1.subs(subsList)\n",
    "\n",
    "    #solve for T2\n",
    "    result = solve(_eq1,T2)\n",
    "    _T2 = result[0] #2nd of 4 solutions (only 1 if eliminate radiation)\n",
    "    \n",
    "    #print \"fin_count = \" + \"%.0f\" % fin_count #show 0 digits after decimal point\n",
    "    #print \"T1 = \" + \"%.0f\" % funKtoF(_T1) + \" F\" #show 0 digits after decimal point    \n",
    "    #print \"T2 = \" + \"%.0f\" % funKtoF(_T2) + \" F\" #show 0 digits after decimal point\n",
    "    \n",
    "    #store results\n",
    "    arrT1.append(funKtoF(_T1))\n",
    "    arrT2.append(funKtoF(_T2))\n",
    "    arrFinCount.append(fin_count)\n",
    "\n",
    "print \"fin_count = \" + \"%.0f\" % fin_count #show 0 digits after decimal point\n",
    "print (\"finned length = \" + str(funMtoIN(_L)*fin_count))\n",
    "print \"T2 = \" + \"%.0f\" % funKtoF(_T2) + \" F\" #show 0 digits after decimal point"
   ]
  },
  {
   "cell_type": "code",
   "execution_count": 22,
   "metadata": {
    "collapsed": false
   },
   "outputs": [
    {
     "data": {
      "image/png": "[encoded data removed]",
      "text/plain": [
       "<matplotlib.figure.Figure at 0x7f92c74cf350>"
      ]
     },
     "metadata": {},
     "output_type": "display_data"
    }
   ],
   "source": [
    "plt.plot(arrFinCount, arrT2)\n",
    "plt.axis([0, 100, 600, 2200]) #[xmin, xmax, ymin, ymax]\n",
    "plt.xlabel('Fin Count')\n",
    "plt.ylabel('T2 Temperature (F)')\n",
    "plt.title('Temp vs Fin')\n",
    "plt.show(); #use semicolon to surpress other output"
   ]
  },
  {
   "cell_type": "code",
   "execution_count": 23,
   "metadata": {
    "collapsed": false
   },
   "outputs": [
    {
     "data": {
      "image/png": "[encoded data removed]",
      "text/latex": [
       "$$255.974506112142$$"
      ],
      "text/plain": [
       "255.974506112142"
      ]
     },
     "execution_count": 23,
     "metadata": {},
     "output_type": "execute_result"
    }
   ],
   "source": [
    "funKtoF(_T2)"
   ]
  }
 ],
 "metadata": {
  "kernelspec": {
   "display_name": "Python 2",
   "language": "python",
   "name": "python2"
  },
  "language_info": {
   "codemirror_mode": {
    "name": "ipython",
    "version": 2
   },
   "file_extension": ".py",
   "mimetype": "text/x-python",
   "name": "python",
   "nbconvert_exporter": "python",
   "pygments_lexer": "ipython2",
   "version": "2.7.12"
  },
  "widgets": {
   "state": {},
   "version": "1.1.2"
  }
 },
 "nbformat": 4,
 "nbformat_minor": 0
}
