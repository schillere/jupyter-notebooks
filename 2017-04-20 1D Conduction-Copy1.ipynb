{
 "cells": [
  {
   "cell_type": "markdown",
   "metadata": {},
   "source": [
    "# 1D Conduction\n",
    "\n",
    "Fundamentals of Heat and Mass Transfer, Incropera, DeWitt, 4th Edition, Example 1.5, page 20"
   ]
  },
  {
   "cell_type": "code",
   "execution_count": 2,
   "metadata": {},
   "outputs": [],
   "source": [
    "#clear out everything\n",
    "%reset -f"
   ]
  },
  {
   "cell_type": "code",
   "execution_count": 22,
   "metadata": {},
   "outputs": [],
   "source": [
    "import math\n",
    "from sympy import *"
   ]
  },
  {
   "cell_type": "code",
   "execution_count": 14,
   "metadata": {
    "scrolled": false
   },
   "outputs": [],
   "source": [
    "#import everything\n",
    "from __future__ import division\n",
    "from sympy.abc import *\n",
    "import numpy as np\n",
    "import matplotlib.pyplot as plt\n",
    "import platform\n",
    "from IPython.display import display"
   ]
  },
  {
   "cell_type": "code",
   "execution_count": 25,
   "metadata": {
    "scrolled": true
   },
   "outputs": [],
   "source": [
    "init_printing() #print prettier output"
   ]
  },
  {
   "cell_type": "code",
   "execution_count": 26,
   "metadata": {},
   "outputs": [],
   "source": [
    "%matplotlib inline"
   ]
  },
  {
   "cell_type": "code",
   "execution_count": 17,
   "metadata": {},
   "outputs": [
    {
     "ename": "ModuleNotFoundError",
     "evalue": "No module named 'UnitConversion'",
     "output_type": "error",
     "traceback": [
      "\u001b[1;31m---------------------------------------------------------------------------\u001b[0m",
      "\u001b[1;31mModuleNotFoundError\u001b[0m                       Traceback (most recent call last)",
      "\u001b[1;32m<ipython-input-17-e7b39ffd3c12>\u001b[0m in \u001b[0;36m<module>\u001b[1;34m\u001b[0m\n\u001b[1;32m----> 1\u001b[1;33m \u001b[1;32mfrom\u001b[0m \u001b[0mUnitConversion\u001b[0m \u001b[1;32mimport\u001b[0m \u001b[1;33m*\u001b[0m \u001b[1;31m#custom .py file with unit conversions\u001b[0m\u001b[1;33m\u001b[0m\u001b[1;33m\u001b[0m\u001b[0m\n\u001b[0m",
      "\u001b[1;31mModuleNotFoundError\u001b[0m: No module named 'UnitConversion'"
     ]
    }
   ],
   "source": [
    "from UnitConversion import * #custom .py file with unit conversions"
   ]
  },
  {
   "cell_type": "code",
   "execution_count": 27,
   "metadata": {},
   "outputs": [],
   "source": [
    "#declare symbols\n",
    "var('q_cond q_conv q_radx k T1 T2 L h Tinf emiss SBC Tsur');"
   ]
  },
  {
   "cell_type": "code",
   "execution_count": 28,
   "metadata": {},
   "outputs": [],
   "source": [
    "#heat transfer equations per unit area\n",
    "q_cond = k*(T1-T2)/L\n",
    "q_conv = h*(T2-Tinf)\n",
    "q_rad = emiss*SBC*(T2**4-Tsur**4)"
   ]
  },
  {
   "cell_type": "code",
   "execution_count": 29,
   "metadata": {},
   "outputs": [],
   "source": [
    "#eq1 = 0\n",
    "eq1 = q_cond - q_conv - q_rad"
   ]
  },
  {
   "cell_type": "code",
   "execution_count": 30,
   "metadata": {},
   "outputs": [],
   "source": [
    "#solve for T2\n",
    "T2_result = solve(eq1,T2)\n",
    "T2 = T2_result[1] #take 2nd of 4 solutions"
   ]
  },
  {
   "cell_type": "code",
   "execution_count": 31,
   "metadata": {},
   "outputs": [
    {
     "ename": "SyntaxError",
     "evalue": "invalid syntax (<ipython-input-31-d8db25688faf>, line 19)",
     "output_type": "error",
     "traceback": [
      "\u001b[1;36m  File \u001b[1;32m\"<ipython-input-31-d8db25688faf>\"\u001b[1;36m, line \u001b[1;32m19\u001b[0m\n\u001b[1;33m    print \"T2 = \" + \"%.0f\" % funKtoF(_T2) + \" F\" #show 0 digits after decimal point\u001b[0m\n\u001b[1;37m                ^\u001b[0m\n\u001b[1;31mSyntaxError\u001b[0m\u001b[1;31m:\u001b[0m invalid syntax\n"
     ]
    }
   ],
   "source": [
    "#Values in preferred units\n",
    "_T1 = 665.33 #F, temperature of hot surface\n",
    "_Tinf = 25 #C, temperature of surrounding air\n",
    "_Tsur = 25 #C, temperature of surrounding surface\n",
    "_L = 5.9055118 #in, thickness/length of material\n",
    "_k = 1.2 #W/mK, thermal conductivity (31.1 for Haynes 160, 0.3 for K23-HS)\n",
    "_h = 20 #W/m2K, convection coefficient (14 ~10mph air blowing across section)\n",
    "_emiss = 0.8 #emissivity\n",
    "_SBC = 5.67E-8 #W/m2K4, Stefan Boltzman constant\n",
    "\n",
    "#corrected units for equation\n",
    "_T1 = funFtoK(_T1) #K\n",
    "_Tinf = funCtoK(_Tinf) #K\n",
    "_Tsur = funCtoK(_Tsur) #K\n",
    "_L = funINtoM(_L) #m\n",
    "\n",
    "subsList = {T1:_T1,L:_L,k:_k,Tinf:_Tinf,Tsur:_Tsur,h:_h,emiss:_emiss,SBC:_SBC}\n",
    "_T2 = T2.subs(subsList) #K\n",
    "print \"T2 = \" + \"%.0f\" % funKtoF(_T2) + \" F\" #show 0 digits after decimal point"
   ]
  },
  {
   "cell_type": "markdown",
   "metadata": {},
   "source": [
    "## Our Application"
   ]
  },
  {
   "cell_type": "code",
   "execution_count": 7,
   "metadata": {},
   "outputs": [
    {
     "name": "stdout",
     "output_type": "stream",
     "text": [
      "T2 = 589 F\n"
     ]
    }
   ],
   "source": [
    "#Values in preferred units\n",
    "_T1 = 2200 #F, temperature of hot surface\n",
    "_Tinf = 25 #C, temperature of surrounding air\n",
    "_Tsur = 25 #C, temperature of surrounding surface\n",
    "_L = 1 #in, thickness/length of material\n",
    "_k = 0.3 #W/mK, thermal conductivity (31.1 for Haynes 160, 0.3 for K23-HS)\n",
    "_h = 20 #W/m2K, convection coefficient (14 ~10mph air blowing across section)\n",
    "_emiss = 0.8 #emissivity\n",
    "_SBC = 5.67E-8 #W/m2K4, Stefan Boltzman constant\n",
    "\n",
    "#corrected units for equation\n",
    "_T1 = funFtoK(_T1) #K\n",
    "_Tinf = funCtoK(_Tinf) #K\n",
    "_Tsur = funCtoK(_Tsur) #K\n",
    "_L = funINtoM(_L) #m\n",
    "\n",
    "subsList = {T1:_T1,L:_L,k:_k,Tinf:_Tinf,Tsur:_Tsur,h:_h,emiss:_emiss,SBC:_SBC}\n",
    "_T2 = T2.subs(subsList) #K\n",
    "print \"T2 = \" + \"%.0f\" % funKtoF(_T2) + \" F\" #show 0 digits after decimal point"
   ]
  }
 ],
 "metadata": {
  "hide_input": false,
  "kernelspec": {
   "display_name": "Python 3",
   "language": "python",
   "name": "python3"
  },
  "language_info": {
   "codemirror_mode": {
    "name": "ipython",
    "version": 3
   },
   "file_extension": ".py",
   "mimetype": "text/x-python",
   "name": "python",
   "nbconvert_exporter": "python",
   "pygments_lexer": "ipython3",
   "version": "3.7.7"
  },
  "toc": {
   "base_numbering": 1,
   "nav_menu": {},
   "number_sections": true,
   "sideBar": true,
   "skip_h1_title": false,
   "title_cell": "Table of Contents",
   "title_sidebar": "Contents",
   "toc_cell": false,
   "toc_position": {},
   "toc_section_display": true,
   "toc_window_display": false
  },
  "widgets": {
   "state": {},
   "version": "1.1.2"
  }
 },
 "nbformat": 4,
 "nbformat_minor": 1
}
