{
 "cells": [
  {
   "cell_type": "markdown",
   "metadata": {},
   "source": [
    "naming conventions:\n",
    "\n",
    "* v_ = numerical value or result\n",
    "* res_ = symbolic result\n",
    "* m_ = markdown\n",
    "* subs_ = equation with values substituted in\n",
    "* eq_ = equation\n",
    "* set_ = solution set\n",
    "* lab_ = label reference to first form of equation\n",
    "* lab2_ = label reference to second form of equation"
   ]
  },
  {
   "cell_type": "markdown",
   "metadata": {},
   "source": [
    "* xbar_A = symbol\n",
    "* eq_xbar_A = symbolic equation\n",
    "* sym_xbar_A = symbolic result for xbar_A"
   ]
  },
  {
   "cell_type": "markdown",
   "metadata": {},
   "source": [
    "Mark notebook as \"Trusted\" to render completely."
   ]
  },
  {
   "cell_type": "markdown",
   "metadata": {},
   "source": [
    "Remember to click the \"reset equation numbering\" button on the toolbar after modifying equations or references."
   ]
  },
  {
   "cell_type": "markdown",
   "metadata": {},
   "source": [
    "# Setup"
   ]
  },
  {
   "cell_type": "code",
   "execution_count": 115,
   "metadata": {
    "tags": [
     "remove_cell"
    ]
   },
   "outputs": [],
   "source": [
    "#clear out everything\n",
    "%reset -f\n",
    "\n",
    "import math\n",
    "from sympy import *\n",
    "from sympy import symbols"
   ]
  },
  {
   "cell_type": "code",
   "execution_count": 116,
   "metadata": {
    "tags": [
     "remove_cell"
    ]
   },
   "outputs": [],
   "source": [
    "#from IPython.display import Markdown as markdown\n",
    "#from IPython.display import Latex as latex\n",
    "\n",
    "from IPython.display import display, Math, Latex, Markdown"
   ]
  },
  {
   "cell_type": "markdown",
   "metadata": {},
   "source": [
    "# Voltage Divider"
   ]
  },
  {
   "cell_type": "markdown",
   "metadata": {},
   "source": [
    "https://en.wikipedia.org/wiki/Voltage_divider"
   ]
  },
  {
   "cell_type": "markdown",
   "metadata": {},
   "source": [
    "Define symbolic variables"
   ]
  },
  {
   "cell_type": "code",
   "execution_count": 117,
   "metadata": {},
   "outputs": [],
   "source": [
    "V_in = symbols('V_in')\n",
    "V_out = symbols('V_out')\n",
    "Z1 = symbols('Z1')\n",
    "Z2 = symbols('Z2')"
   ]
  },
  {
   "cell_type": "markdown",
   "metadata": {},
   "source": [
    "Define equation"
   ]
  },
  {
   "cell_type": "code",
   "execution_count": 118,
   "metadata": {},
   "outputs": [],
   "source": [
    "eq_V_out = Eq(V_out, (Z2/(Z1+Z2))*V_in) #symbolic equality"
   ]
  },
  {
   "cell_type": "code",
   "execution_count": 119,
   "metadata": {},
   "outputs": [
    {
     "data": {
      "text/latex": [
       "\\begin{align}\n",
       "V_{out} &= \\frac{V_{in} Z_{2}}{Z_{1} + Z_{2}}\n",
       "\\label{lab_V_out}\\\\\n",
       "\\end{align}"
      ],
      "text/plain": [
       "<IPython.core.display.Latex object>"
      ]
     },
     "execution_count": 119,
     "metadata": {},
     "output_type": "execute_result"
    }
   ],
   "source": [
    "Latex(r\"\"\"\\begin{align}\n",
    "%s &= %s\n",
    "\\label{lab_V_out}\\\\\n",
    "\\end{align}\"\"\" % (latex(V_out), latex(eq_V_out.rhs)) )"
   ]
  },
  {
   "cell_type": "markdown",
   "metadata": {},
   "source": [
    "Solve for Z1"
   ]
  },
  {
   "cell_type": "code",
   "execution_count": 120,
   "metadata": {},
   "outputs": [],
   "source": [
    "sym_Z1 = solve(eq_V_out,Z1)[0] #first solution, substitutable"
   ]
  },
  {
   "cell_type": "code",
   "execution_count": 121,
   "metadata": {},
   "outputs": [
    {
     "data": {
      "text/latex": [
       "\\begin{align}\n",
       "Z_{1} &= \\frac{Z_{2} \\left(V_{in} - V_{out}\\right)}{V_{out}}\n",
       "\\label{lab_Z1}\\\\\n",
       "\\end{align}"
      ],
      "text/plain": [
       "<IPython.core.display.Latex object>"
      ]
     },
     "execution_count": 121,
     "metadata": {},
     "output_type": "execute_result"
    }
   ],
   "source": [
    "Latex(r\"\"\"\\begin{align}\n",
    "%s &= %s\n",
    "\\label{lab_Z1}\\\\\n",
    "\\end{align}\"\"\" % (latex(Z1), latex(sym_Z1)) )"
   ]
  },
  {
   "cell_type": "markdown",
   "metadata": {},
   "source": [
    "Substitute in values"
   ]
  },
  {
   "cell_type": "code",
   "execution_count": 122,
   "metadata": {},
   "outputs": [],
   "source": [
    "v_V_in = 100 #mV input\n",
    "v_V_out = 2.5 #mV output\n",
    "v_Z2 = 1E6 #span, in"
   ]
  },
  {
   "cell_type": "code",
   "execution_count": 123,
   "metadata": {},
   "outputs": [],
   "source": [
    "subs_sym_Z1 = sym_Z1.subs([(V_in, v_V_in), (V_out, v_V_out), (Z2, v_Z2)])"
   ]
  },
  {
   "cell_type": "code",
   "execution_count": 124,
   "metadata": {},
   "outputs": [],
   "source": [
    "m_Z1=latex(r\"$Z1 = %1.0f \\ \\text{Ohm}$\" %subs_sym_Z1)"
   ]
  },
  {
   "cell_type": "markdown",
   "metadata": {
    "variables": {
     "m_Z1": "$Z1 = 39000000 \\ \\text{Ohm}$"
    }
   },
   "source": [
    "Substitute dimensional values to get, {{m_Z1}}."
   ]
  }
 ],
 "metadata": {
  "hide_input": false,
  "kernelspec": {
   "display_name": "Python 3",
   "language": "python",
   "name": "python3"
  },
  "language_info": {
   "codemirror_mode": {
    "name": "ipython",
    "version": 3
   },
   "file_extension": ".py",
   "mimetype": "text/x-python",
   "name": "python",
   "nbconvert_exporter": "python",
   "pygments_lexer": "ipython3",
   "version": "3.7.7"
  },
  "latex_envs": {
   "LaTeX_envs_menu_present": true,
   "autoclose": false,
   "autocomplete": true,
   "bibliofile": "biblio.bib",
   "cite_by": "apalike",
   "current_citInitial": 1,
   "eqLabelWithNumbers": true,
   "eqNumInitial": 1,
   "hotkeys": {
    "equation": "Ctrl-E",
    "itemize": "Ctrl-I"
   },
   "labels_anchors": false,
   "latex_user_defs": false,
   "report_style_numbering": false,
   "user_envs_cfg": false
  },
  "toc": {
   "base_numbering": 1,
   "nav_menu": {},
   "number_sections": true,
   "sideBar": true,
   "skip_h1_title": false,
   "title_cell": "Table of Contents",
   "title_sidebar": "Contents",
   "toc_cell": false,
   "toc_position": {
    "height": "calc(100% - 180px)",
    "left": "10px",
    "top": "150px",
    "width": "384px"
   },
   "toc_section_display": true,
   "toc_window_display": true
  }
 },
 "nbformat": 4,
 "nbformat_minor": 4
}
