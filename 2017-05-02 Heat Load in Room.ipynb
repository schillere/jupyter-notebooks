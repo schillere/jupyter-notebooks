{
 "cells": [
  {
   "cell_type": "code",
   "execution_count": 1,
   "metadata": {
    "collapsed": false
   },
   "outputs": [],
   "source": [
    "#clear out everything\n",
    "%reset -f\n",
    "import math\n",
    "from sympy import * #import everything\n",
    "from __future__ import division\n",
    "from sympy.abc import *\n",
    "import numpy as np\n",
    "import matplotlib.pyplot as plt\n",
    "import platform\n",
    "from IPython.display import display\n",
    "from UnitConversion import * #custom .py file with unit conversions\n",
    "init_printing() #print prettier output\n",
    "%matplotlib inline "
   ]
  },
  {
   "cell_type": "markdown",
   "metadata": {},
   "source": [
    "# Estimating Heat Load in the Room"
   ]
  },
  {
   "cell_type": "markdown",
   "metadata": {},
   "source": [
    "Energy entering room: Furnace, Preheater, Fuel\n",
    "\n",
    "Energy leaving room: Hot Exhaust Gases"
   ]
  },
  {
   "cell_type": "markdown",
   "metadata": {},
   "source": [
    "### Advection"
   ]
  },
  {
   "cell_type": "markdown",
   "metadata": {},
   "source": [
    "https://en.wikipedia.org/wiki/Heat_transfer\n",
    "\n",
    "Heat transfer by transferring matter, energy is moved by the physical transfer of a hot or cold object/material from one place to another. This can be described by the formula:\n",
    "\n",
    "\\begin{equation*}\n",
    "Q_{adv} = v \\rho c_{p} \\Delta T \n",
    "\\quad\\mathrm{(W/m^{2})}\n",
    "\\tag{1}\n",
    "\\end{equation*}\n",
    "\n",
    "where $Q$ is heat flux (W/m²), $\\rho$ is density (kg/m³), $c_{p}$ is heat capacity at constant pressure (J/kg·K), $\\Delta T$ is the change in temperature (K), and $v$ is velocity (m/s)."
   ]
  },
  {
   "cell_type": "markdown",
   "metadata": {},
   "source": [
    "On a total basis, not per unit area, heat transfer becomes:\n",
    "\n",
    "\\begin{equation*}\n",
    "q_{adv}=\\dot{m} c_{p} \\Delta T\n",
    "\\quad\\mathrm{(W)}\n",
    "\\tag{2}\n",
    "\\end{equation*}\n",
    "\n",
    "where $\\dot{m}$ is mass flow rate in (kg/s)."
   ]
  },
  {
   "cell_type": "markdown",
   "metadata": {},
   "source": [
    "\\begin{equation*}\n",
    "\\Delta T=T_f - T_i\n",
    "\\quad\\mathrm{(K)}\n",
    "\\tag{3}\n",
    "\\end{equation*}"
   ]
  },
  {
   "cell_type": "code",
   "execution_count": 2,
   "metadata": {
    "collapsed": false
   },
   "outputs": [
    {
     "data": {
      "image/png": "[encoded data removed]",
      "text/latex": [
       "$$q_{adv} = \\Delta T \\dot{m}_{gas} c_{p}$$"
      ],
      "text/plain": [
       "q_adv = \\Delta T⋅\\dot{m}_{gas}⋅c_p"
      ]
     },
     "metadata": {},
     "output_type": "display_data"
    },
    {
     "data": {
      "image/png": "[encoded data removed]",
      "text/latex": [
       "$$\\Delta T = T_{f} - T_{i}$$"
      ],
      "text/plain": [
       "\\Delta T = T_f - Tᵢ"
      ]
     },
     "metadata": {},
     "output_type": "display_data"
    }
   ],
   "source": [
    "#declare symbols\n",
    "var(' q_adv c_p T_f T_i ')\n",
    "deltaT = Symbol('\\Delta T') #in Jupyter notebook, you can set the symbol name to be the LaTeX of what you want\n",
    "mdot_gas = Symbol('\\dot{m}_{gas}')\n",
    "\n",
    "#equations, symbolic equations in SymPy are not represented by = or ==, but by Eq\n",
    "eq1 = Eq(q_adv, mdot_gas*c_p*deltaT)\n",
    "eq2 = Eq(deltaT, T_f - T_i) #temperature difference between inlet and outlet of room\n",
    "display(eq1)\n",
    "display(eq2)"
   ]
  },
  {
   "cell_type": "code",
   "execution_count": 3,
   "metadata": {
    "collapsed": false
   },
   "outputs": [
    {
     "data": {
      "image/png": "[encoded data removed]",
      "text/latex": [
       "$$q_{adv} = \\dot{m}_{gas} c_{p} \\left(T_{f} - T_{i}\\right)$$"
      ],
      "text/plain": [
       "q_adv = \\dot{m}_{gas}⋅c_p⋅(T_f - Tᵢ)"
      ]
     },
     "metadata": {},
     "output_type": "display_data"
    }
   ],
   "source": [
    "r1 = solve(eq2,deltaT,dict=1) #solve eq2 for deltaT, output as dictionary object\n",
    "r2 = eq1.subs(r1[0]) #substitute the first (and only) item in the dictionary object into eq1\n",
    "display(r2)"
   ]
  },
  {
   "cell_type": "code",
   "execution_count": 4,
   "metadata": {
    "collapsed": false
   },
   "outputs": [
    {
     "data": {
      "image/png": "[encoded data removed]",
      "text/latex": [
       "$$\\left \\{ T_{f} : 672.038888889, \\quad T_{i} : 322.038888889, \\quad \\dot{m}_{gas} : 0.95, \\quad c_{p} : 1340\\right \\}$$"
      ],
      "text/plain": [
       "{T_f: 672.038888889, Tᵢ: 322.038888889, \\dot{m}_{gas}: 0.95, c_p: 1340}"
      ]
     },
     "metadata": {},
     "output_type": "display_data"
    },
    {
     "data": {
      "image/png": "[encoded data removed]",
      "text/latex": [
       "$$q_{adv} = 445550.0$$"
      ],
      "text/plain": [
       "q_adv = 445550.0"
      ]
     },
     "metadata": {},
     "output_type": "display_data"
    },
    {
     "name": "stdout",
     "output_type": "stream",
     "text": [
      "q_adv = 446 kW, heat exiting room through exhaust\n"
     ]
    }
   ],
   "source": [
    "#values in preferred units\n",
    "_T_f = 750 #F, final temperature\n",
    "_T_i = 120 #F, initial temperature\n",
    "_c_p = 1340 #J/kgK, specific heat (http://www.pipeflowcalculations.com/tables/flue-gas.php)\n",
    "_mdot_gas = 0.95 #kg/s, mass flow rate of gas exiting the room (assumes addition of dilution air at ~4:1 kg/kg)\n",
    "\n",
    "#corrected units for equation\n",
    "_T_f = funFtoK(_T_f) #K\n",
    "_T_i = funFtoK(_T_i) #K\n",
    "\n",
    "#substitute values for variables\n",
    "subsList = { T_f:_T_f, T_i:_T_i, c_p:_c_p, mdot_gas:_mdot_gas }\n",
    "display(subsList)\n",
    "\n",
    "#calculate q_adv\n",
    "temp = r2.subs(subsList)\n",
    "display(temp)\n",
    "_q_adv = temp.args[1]\n",
    "print(\"q_adv = %.0f\" %(_q_adv/1000) + \" kW, heat exiting room through exhaust\") #show N digits after decimal point"
   ]
  },
  {
   "cell_type": "markdown",
   "metadata": {},
   "source": [
    "### How much energy is entering the room?\n",
    "\n",
    "#### From fuel:\n",
    "http://www.engineeringtoolbox.com/fuels-higher-calorific-values-d_169.html\n",
    "\n",
    "The calorific value of a fuel is the quantity of heat produced by its combustion - at constant pressure and under \"normal\" (\"standard\") conditions (i.e. to 0oC and under a pressure of 1013 mbar).\n",
    "\n",
    "The combustion process generates water vapor and certain techniques may be used to recover the quantity of heat contained in this water vapor by condensing it.\n",
    "\n",
    "Higher Calorific Value (or Gross Calorific Value - GCV, or Higher Heating Value - HHV) -  the water of combustion is entirely condensed and that the heat contained in the water vapor is recovered\n",
    "\n",
    "Lower Calorific Value (or Net Calorific Value - NCV, or Lower Heating Value - LHV) - the products of combustion contains the water vapor and that the heat in the water vapor is not recovered\n",
    "\n",
    "$HHV_{Diesel} = 44800 \\quad(kJ/kg)$\n",
    "\n",
    "$HHV_{Arabian\\,Super\\,Light} = 44769 \\quad(kJ/kg)$\n",
    "\n",
    "$HHV_{Arabian\\,Heavy} = 43443 \\quad(kJ/kg)$\n",
    "\n",
    "(Arabian Super Light, Arabian Heavy values are from SRD ref B: 19247, 18677 BTU/lbm)\n",
    "\n",
    "We don't have LHV values, and our conditions aren't standard, so we guess at a combustion efficiency, $\\eta$ in (%).\n",
    "\n",
    "Energy entering the room via the fuel $E_{in}$ should be:\n",
    "\n",
    "\\begin{equation*}\n",
    "E_{in} = HHV \\times \\dot{m}_{fuel} \\times \\frac{\\eta}{100}\n",
    "\\quad\\mathrm{(W)}\n",
    "\\tag{4}\n",
    "\\end{equation*}"
   ]
  },
  {
   "cell_type": "code",
   "execution_count": 5,
   "metadata": {
    "collapsed": false
   },
   "outputs": [
    {
     "data": {
      "image/png": "[encoded data removed]",
      "text/latex": [
       "$$E_{fuel} = \\frac{HHV \\dot{m}_{fuel}}{100} \\eta$$"
      ],
      "text/plain": [
       "         HHV⋅\\dot{m}_{fuel}⋅η\n",
       "E_fuel = ────────────────────\n",
       "                 100         "
      ]
     },
     "metadata": {},
     "output_type": "display_data"
    },
    {
     "data": {
      "image/png": "[encoded data removed]",
      "text/latex": [
       "$$\\left \\{ HHV : 44800000, \\quad T_{f} : 672.038888889, \\quad T_{i} : 322.038888889, \\quad \\dot{m}_{fuel} : 0.0156, \\quad \\dot{m}_{gas} : 0.95, \\quad c_{p} : 1340, \\quad \\eta : 100\\right \\}$$"
      ],
      "text/plain": [
       "{HHV: 44800000, T_f: 672.038888889, Tᵢ: 322.038888889, \\dot{m}_{fuel}: 0.0156,\n",
       " \\dot{m}_{gas}: 0.95, c_p: 1340, η: 100}"
      ]
     },
     "metadata": {},
     "output_type": "display_data"
    },
    {
     "data": {
      "image/png": "[encoded data removed]",
      "text/latex": [
       "$$E_{fuel} = 698880.0$$"
      ],
      "text/plain": [
       "E_fuel = 698880.0"
      ]
     },
     "metadata": {},
     "output_type": "display_data"
    },
    {
     "name": "stdout",
     "output_type": "stream",
     "text": [
      "E_fuel = 699 kW, heat entering room from fuel combustion\n"
     ]
    }
   ],
   "source": [
    "#declare symbols\n",
    "var(' E_fuel HHV eta ')\n",
    "mdot_fuel = Symbol('\\dot{m}_{fuel}')\n",
    "\n",
    "#equations, symbolic equations in SymPy are not represented by = or ==, but by Eq\n",
    "eq3 = Eq(E_fuel, HHV*mdot_fuel*eta/100)\n",
    "display(eq3)\n",
    "\n",
    "#values in preferred units\n",
    "_HHV = 44800*1000 #J/kg, higher heating value\n",
    "_mdot_fuel = .0156 #kg/s, mass flow rate of fuel (max flow, 19 gal/hour)\n",
    "_eta = 100 #%, heat transfer efficiency 65-85% for home furnaces, 100% is worst case for AC sizing (http://www.ems.psu.edu/~radovic/Chapter4.pdf)\n",
    "\n",
    "#substitute values for variables\n",
    "subsList.update({ HHV:_HHV, mdot_fuel:_mdot_fuel, eta:_eta })\n",
    "display(subsList)\n",
    "\n",
    "#calculate\n",
    "temp = eq3.subs(subsList)\n",
    "display(temp)\n",
    "_E_fuel = temp.args[1]\n",
    "print(\"E_fuel = %.0f\" %(_E_fuel/1000) + \" kW, heat entering room from fuel combustion\") #show N digits after decimal point"
   ]
  },
  {
   "cell_type": "markdown",
   "metadata": {},
   "source": [
    "#### From Furnace, PreHeater:\n",
    "Furnace is rated at 17.2 kW, so if it were running at max capacity...\n",
    "\n",
    "Preheater is rated at 41.2 kW, so if it were running at max capacity...\n",
    "\n",
    "(Not including the centrifuge because it should not run simultaneously with the rig)"
   ]
  },
  {
   "cell_type": "markdown",
   "metadata": {},
   "source": [
    "#### Total"
   ]
  },
  {
   "cell_type": "code",
   "execution_count": 6,
   "metadata": {
    "collapsed": false
   },
   "outputs": [
    {
     "data": {
      "image/png": "[encoded data removed]",
      "text/latex": [
       "$$E_{total} = E_{fuel} + E_{furnace} + E_{preheater} - q_{adv}$$"
      ],
      "text/plain": [
       "E_total = E_fuel + E_furnace + E_preheater - q_adv"
      ]
     },
     "metadata": {},
     "output_type": "display_data"
    },
    {
     "data": {
      "image/png": "[encoded data removed]",
      "text/latex": [
       "$$E_{total} = 311730.0$$"
      ],
      "text/plain": [
       "E_total = 311730.0"
      ]
     },
     "metadata": {},
     "output_type": "display_data"
    },
    {
     "name": "stdout",
     "output_type": "stream",
     "text": [
      "E_total = 312 kW, heat load into room\n"
     ]
    }
   ],
   "source": [
    "var(' E_total E_furnace E_preheater')\n",
    "_E_furnace = 17.2*1000 #W\n",
    "_E_preheater = 41.2*1000 #W\n",
    "\n",
    "eq4 = Eq(E_total, E_fuel + E_furnace + E_preheater - q_adv)\n",
    "display(eq4)\n",
    "\n",
    "_E_total = eq4.subs({E_fuel:_E_fuel, q_adv:_q_adv, E_furnace:_E_furnace, E_preheater:_E_preheater})\n",
    "display(_E_total)\n",
    "print(\"E_total = %.0f\" %(_E_total.args[1]/1000) + \" kW, heat load into room\") #show N digits after decimal point"
   ]
  }
 ],
 "metadata": {
  "kernelspec": {
   "display_name": "Python 2",
   "language": "python",
   "name": "python2"
  },
  "language_info": {
   "codemirror_mode": {
    "name": "ipython",
    "version": 2
   },
   "file_extension": ".py",
   "mimetype": "text/x-python",
   "name": "python",
   "nbconvert_exporter": "python",
   "pygments_lexer": "ipython2",
   "version": "2.7.12"
  },
  "widgets": {
   "state": {},
   "version": "1.1.2"
  }
 },
 "nbformat": 4,
 "nbformat_minor": 0
}
