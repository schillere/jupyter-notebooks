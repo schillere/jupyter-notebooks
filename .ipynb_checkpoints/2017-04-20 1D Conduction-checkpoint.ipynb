{
 "cells": [
  {
   "cell_type": "markdown",
   "metadata": {},
   "source": [
    "# 1D Conduction\n",
    "\n",
    "Fundamentals of Heat and Mass Transfer, Incropera, DeWitt, 4th Edition, Example 1.5, page 20"
   ]
  },
  {
   "cell_type": "code",
   "execution_count": 1,
   "metadata": {},
   "outputs": [
    {
     "ename": "SyntaxError",
     "evalue": "import * only allowed at module level (<ipython-input-1-4f8b808dba46>, line 2)",
     "output_type": "error",
     "traceback": [
      "\u001b[1;36m  File \u001b[1;32m\"<ipython-input-1-4f8b808dba46>\"\u001b[1;36m, line \u001b[1;32m2\u001b[0m\n\u001b[1;33m    get_ipython().run_line_magic('reset', '-f')\u001b[0m\n\u001b[1;37m                                               ^\u001b[0m\n\u001b[1;31mSyntaxError\u001b[0m\u001b[1;31m:\u001b[0m import * only allowed at module level\n"
     ]
    }
   ],
   "source": [
    "#clear out everything\n",
    "%reset -f\n",
    "import math\n",
    "from sympy import * #import everything\n",
    "from __future__ import division\n",
    "from sympy.abc import *\n",
    "import numpy as np\n",
    "import matplotlib.pyplot as plt\n",
    "import platform\n",
    "from IPython.display import display\n",
    "from UnitConversion import * #custom .py file with unit conversions\n",
    "import pandas\n",
    "init_printing() #print prettier output\n",
    "%matplotlib inline"
   ]
  },
  {
   "cell_type": "code",
   "execution_count": 2,
   "metadata": {},
   "outputs": [
    {
     "ename": "NameError",
     "evalue": "name 'var' is not defined",
     "output_type": "error",
     "traceback": [
      "\u001b[1;31m---------------------------------------------------------------------------\u001b[0m",
      "\u001b[1;31mNameError\u001b[0m                                 Traceback (most recent call last)",
      "\u001b[1;32m<ipython-input-2-b339aebc8080>\u001b[0m in \u001b[0;36m<module>\u001b[1;34m\u001b[0m\n\u001b[0;32m      1\u001b[0m \u001b[1;31m#declare symbols\u001b[0m\u001b[1;33m\u001b[0m\u001b[1;33m\u001b[0m\u001b[1;33m\u001b[0m\u001b[0m\n\u001b[1;32m----> 2\u001b[1;33m \u001b[0mvar\u001b[0m\u001b[1;33m(\u001b[0m\u001b[1;34m'q_cond q_conv q_radx k T1 T2 L h Tinf emiss SBC Tsur'\u001b[0m\u001b[1;33m)\u001b[0m\u001b[1;33m;\u001b[0m\u001b[1;33m\u001b[0m\u001b[1;33m\u001b[0m\u001b[0m\n\u001b[0m",
      "\u001b[1;31mNameError\u001b[0m: name 'var' is not defined"
     ]
    }
   ],
   "source": [
    "#declare symbols\n",
    "var('q_cond q_conv q_radx k T1 T2 L h Tinf emiss SBC Tsur');"
   ]
  },
  {
   "cell_type": "code",
   "execution_count": 3,
   "metadata": {
    "collapsed": true
   },
   "outputs": [],
   "source": [
    "#heat transfer equations per unit area\n",
    "q_cond = k*(T1-T2)/L\n",
    "q_conv = h*(T2-Tinf)\n",
    "q_rad = emiss*SBC*(T2**4-Tsur**4)"
   ]
  },
  {
   "cell_type": "code",
   "execution_count": 4,
   "metadata": {},
   "outputs": [],
   "source": [
    "#eq1 = 0\n",
    "eq1 = q_cond - q_conv - q_rad"
   ]
  },
  {
   "cell_type": "code",
   "execution_count": 5,
   "metadata": {},
   "outputs": [],
   "source": [
    "#solve for T2\n",
    "T2_result = solve(eq1,T2)\n",
    "T2 = T2_result[1] #take 2nd of 4 solutions"
   ]
  },
  {
   "cell_type": "code",
   "execution_count": 6,
   "metadata": {},
   "outputs": [
    {
     "name": "stdout",
     "output_type": "stream",
     "text": [
      "T2 = 212 F\n"
     ]
    }
   ],
   "source": [
    "#Values in preferred units\n",
    "_T1 = 665.33 #F, temperature of hot surface\n",
    "_Tinf = 25 #C, temperature of surrounding air\n",
    "_Tsur = 25 #C, temperature of surrounding surface\n",
    "_L = 5.9055118 #in, thickness/length of material\n",
    "_k = 1.2 #W/mK, thermal conductivity (31.1 for Haynes 160, 0.3 for K23-HS)\n",
    "_h = 20 #W/m2K, convection coefficient (14 ~10mph air blowing across section)\n",
    "_emiss = 0.8 #emissivity\n",
    "_SBC = 5.67E-8 #W/m2K4, Stefan Boltzman constant\n",
    "\n",
    "#corrected units for equation\n",
    "_T1 = funFtoK(_T1) #K\n",
    "_Tinf = funCtoK(_Tinf) #K\n",
    "_Tsur = funCtoK(_Tsur) #K\n",
    "_L = funINtoM(_L) #m\n",
    "\n",
    "subsList = {T1:_T1,L:_L,k:_k,Tinf:_Tinf,Tsur:_Tsur,h:_h,emiss:_emiss,SBC:_SBC}\n",
    "_T2 = T2.subs(subsList) #K\n",
    "print \"T2 = \" + \"%.0f\" % funKtoF(_T2) + \" F\" #show 0 digits after decimal point"
   ]
  },
  {
   "cell_type": "markdown",
   "metadata": {},
   "source": [
    "## Our Application"
   ]
  },
  {
   "cell_type": "code",
   "execution_count": 7,
   "metadata": {},
   "outputs": [
    {
     "name": "stdout",
     "output_type": "stream",
     "text": [
      "T2 = 589 F\n"
     ]
    }
   ],
   "source": [
    "#Values in preferred units\n",
    "_T1 = 2200 #F, temperature of hot surface\n",
    "_Tinf = 25 #C, temperature of surrounding air\n",
    "_Tsur = 25 #C, temperature of surrounding surface\n",
    "_L = 1 #in, thickness/length of material\n",
    "_k = 0.3 #W/mK, thermal conductivity (31.1 for Haynes 160, 0.3 for K23-HS)\n",
    "_h = 20 #W/m2K, convection coefficient (14 ~10mph air blowing across section)\n",
    "_emiss = 0.8 #emissivity\n",
    "_SBC = 5.67E-8 #W/m2K4, Stefan Boltzman constant\n",
    "\n",
    "#corrected units for equation\n",
    "_T1 = funFtoK(_T1) #K\n",
    "_Tinf = funCtoK(_Tinf) #K\n",
    "_Tsur = funCtoK(_Tsur) #K\n",
    "_L = funINtoM(_L) #m\n",
    "\n",
    "subsList = {T1:_T1,L:_L,k:_k,Tinf:_Tinf,Tsur:_Tsur,h:_h,emiss:_emiss,SBC:_SBC}\n",
    "_T2 = T2.subs(subsList) #K\n",
    "print \"T2 = \" + \"%.0f\" % funKtoF(_T2) + \" F\" #show 0 digits after decimal point"
   ]
  }
 ],
 "metadata": {
  "hide_input": false,
  "kernelspec": {
   "display_name": "Python 3",
   "language": "python",
   "name": "python3"
  },
  "language_info": {
   "codemirror_mode": {
    "name": "ipython",
    "version": 3
   },
   "file_extension": ".py",
   "mimetype": "text/x-python",
   "name": "python",
   "nbconvert_exporter": "python",
   "pygments_lexer": "ipython3",
   "version": "3.7.7"
  },
  "toc": {
   "base_numbering": 1,
   "nav_menu": {},
   "number_sections": true,
   "sideBar": true,
   "skip_h1_title": false,
   "title_cell": "Table of Contents",
   "title_sidebar": "Contents",
   "toc_cell": false,
   "toc_position": {},
   "toc_section_display": true,
   "toc_window_display": false
  },
  "widgets": {
   "state": {},
   "version": "1.1.2"
  }
 },
 "nbformat": 4,
 "nbformat_minor": 1
}
