{
 "cells": [
  {
   "cell_type": "markdown",
   "metadata": {},
   "source": [
    "Run the following 2 cells to export this document as PDF, without input cells. Currently, the \"Save as\" option from the menu bar doesn't work as well."
   ]
  },
  {
   "cell_type": "code",
   "execution_count": 1,
   "metadata": {
    "hide_input": false,
    "tags": [
     "remove_cell"
    ]
   },
   "outputs": [
    {
     "data": {
      "application/javascript": [
       "IPython.notebook.kernel.execute('strNotebookName = \"' + IPython.notebook.notebook_name + '\"')\n"
      ],
      "text/plain": [
       "<IPython.core.display.Javascript object>"
      ]
     },
     "metadata": {},
     "output_type": "display_data"
    }
   ],
   "source": [
    "%%javascript\n",
    "IPython.notebook.kernel.execute('strNotebookName = \"' + IPython.notebook.notebook_name + '\"')"
   ]
  },
  {
   "cell_type": "code",
   "execution_count": 2,
   "metadata": {
    "jupyter": {
     "outputs_hidden": true
    },
    "scrolled": false,
    "tags": [
     "remove_cell"
    ]
   },
   "outputs": [],
   "source": [
    "#Export current notebook as PDF without tagged cells\n",
    "#only show error messages in stderr\n",
    "strNotebookName2 = '\"' + strNotebookName + '\"' #filenames with spaces need to be wrapped in double quotes\n",
    "!jupyter nbconvert $strNotebookName2 \\\n",
    "--TagRemovePreprocessor.remove_cell_tags=\"['remove_cell']\" \\\n",
    "--to pdf \\\n",
    "--log-level ERROR \\\n",
    "--no-input\n",
    "#--TemplateExporter.exclude_input=True"
   ]
  },
  {
   "cell_type": "markdown",
   "metadata": {},
   "source": [
    "naming conventions:\n",
    "\n",
    "* v_ = numerical value or result\n",
    "* res_ = symbolic result\n",
    "* m_ = markdown\n",
    "* subs_ = equation with values substituted in\n",
    "* eq_ = equation\n",
    "* set_ = solution set\n",
    "* lab_ = label reference to first form of equation\n",
    "* lab2_ = label reference to second form of equation"
   ]
  },
  {
   "cell_type": "markdown",
   "metadata": {},
   "source": [
    "* xbar_A = symbol\n",
    "* eq_xbar_A = symbolic equation\n",
    "* sym_xbar_A = symbolic result for xbar_A"
   ]
  },
  {
   "cell_type": "markdown",
   "metadata": {},
   "source": [
    "Mark notebook as \"Trusted\" to render completely."
   ]
  },
  {
   "cell_type": "markdown",
   "metadata": {},
   "source": [
    "Remember to click the \"reset equation numbering\" button on the toolbar after modifying equations or references."
   ]
  },
  {
   "cell_type": "markdown",
   "metadata": {},
   "source": [
    "# Setup"
   ]
  },
  {
   "cell_type": "code",
   "execution_count": 35,
   "metadata": {
    "tags": [
     "remove_cell"
    ]
   },
   "outputs": [],
   "source": [
    "import math\n",
    "from sympy import *\n",
    "from sympy import symbols"
   ]
  },
  {
   "cell_type": "code",
   "execution_count": 36,
   "metadata": {
    "tags": [
     "remove_cell"
    ]
   },
   "outputs": [],
   "source": [
    "#from IPython.display import Markdown as markdown\n",
    "#from IPython.display import Latex as latex\n",
    "\n",
    "from IPython.display import display, Math, Latex, Markdown"
   ]
  },
  {
   "cell_type": "markdown",
   "metadata": {},
   "source": [
    "# Stress Report"
   ]
  },
  {
   "cell_type": "markdown",
   "metadata": {},
   "source": [
    "This document presents a stress analysis for the __Super Cool Gizmo<sup>2</sup>__."
   ]
  },
  {
   "cell_type": "markdown",
   "metadata": {},
   "source": [
    "## Description of Model"
   ]
  },
  {
   "cell_type": "markdown",
   "metadata": {},
   "source": [
    "The Super Cool Gizmo, (Figure \\ref{myLabel4}), provides dynamic loading during flight by rotating a slotted cylinder. The slots in the cylinder deflect the air stream causing a cyclical dynamic load. The frequency and the force are adjustable."
   ]
  },
  {
   "cell_type": "markdown",
   "metadata": {},
   "source": [
    "<div style=\"display: block; margin-left:auto; margin-right:auto; width:500px\"> \n",
    "    \n",
    "![SCG_01](images/GOURDOU-LESEURRE_Type_C1.png \"SCG\")\n",
    "\n",
    "</div>\n",
    "\n",
    "\\begin{align}\n",
    "\\text{ }\n",
    "\\label{myLabel4}\n",
    "\\end{align}\n",
    "<div style=\"text-align: center;\">\n",
    "Figure \\ref{myLabel4}: SCG.\n",
    "</div>"
   ]
  },
  {
   "cell_type": "markdown",
   "metadata": {},
   "source": [
    "## Aerodynamic Data"
   ]
  },
  {
   "cell_type": "markdown",
   "metadata": {},
   "source": [
    "Blah."
   ]
  },
  {
   "cell_type": "markdown",
   "metadata": {},
   "source": [
    "Blah blah."
   ]
  },
  {
   "cell_type": "markdown",
   "metadata": {},
   "source": [
    "The following is a summary of the measured aerodynamic data used in this analysis:"
   ]
  },
  {
   "cell_type": "code",
   "execution_count": 64,
   "metadata": {},
   "outputs": [],
   "source": [
    "v_C_LS = 0.7 #coefficient of lift, static\n",
    "m_C_LS=latex(r\"$C_{LS} = %1.1f$\" %v_C_LS) #formatting for display\n",
    "\n",
    "v_C_MB = 0.159 #coefficient of moment, root bending\n",
    "m_C_MB=latex(r\"$C_{MB} = \\pm\\ %1.3f$\" %v_C_MB) #formatting for display"
   ]
  },
  {
   "cell_type": "markdown",
   "metadata": {
    "variables": {
     "m_C_LS": "$C_{LS} = 0.7$",
     "m_C_MB": "$C_{MB} = \\pm\\ 0.159$"
    }
   },
   "source": [
    "* __Static Lift Coefficient,__ {{m_C_LS}}\n",
    "    * From wind tunnel test data – DEI Report D-277. 0.4 to 1.1 Mach \n",
    "    * at AOA = 15 degrees\n",
    "    * reference area equals planform area, airfoil plus cylinder\n",
    "\n",
    "\n",
    "* __Dynamic Root Bending Moment Coefficient,__ {{m_C_MB}}\n",
    "    * From flight test data – Gates Learjet Model 36, 0.5 to 0.8 Mach, 2 to 30 Hz\n",
    "    * reference area equals planform area, airfoil plus cylinder "
   ]
  },
  {
   "cell_type": "markdown",
   "metadata": {},
   "source": [
    "For this analysis, the lift and normal force coefficients are assumed to be the same value."
   ]
  },
  {
   "cell_type": "markdown",
   "metadata": {},
   "source": [
    "## Loads Data"
   ]
  },
  {
   "cell_type": "code",
   "execution_count": 38,
   "metadata": {},
   "outputs": [],
   "source": [
    "v_q = 700 #fluid dynamic pressure, psf\n",
    "m_q=latex(r\"$q = %i \\ \\text{psf}$\" %v_q) #formatting for display"
   ]
  },
  {
   "cell_type": "markdown",
   "metadata": {
    "variables": {
     "m_q": "$q = 700 \\ \\text{psf}$"
    }
   },
   "source": [
    "Design loads are based on flight conditions for the maximum allowable fluid dynamic pressure, {{m_q}}, and the stall angle of attack (AOA = 15 degrees)."
   ]
  },
  {
   "cell_type": "markdown",
   "metadata": {},
   "source": [
    "Static and dynamic loads act on the SCG. \n",
    "\n",
    "* The static load is lift primarily generated by the airfoil. \n",
    "  * The static lift on the cylinder is considered negligible.\n",
    "\n",
    "* The dynamic load is the lift generated by the rotating cylinder.\n",
    "  * Dynamic load is assumed to be split between the airfoil and the cylinder."
   ]
  },
  {
   "cell_type": "markdown",
   "metadata": {},
   "source": [
    "### Airfoil Static Load"
   ]
  },
  {
   "cell_type": "markdown",
   "metadata": {},
   "source": [
    "Static lift load, $L_s$ is defined in equation \\eqref{lab_L_s}."
   ]
  },
  {
   "cell_type": "markdown",
   "metadata": {},
   "source": [
    "\\begin{align}\n",
    "L_s &= C_{LS} S q\n",
    "\\label{lab_L_s}\\\\\n",
    "\\nonumber\n",
    "\\newline  \n",
    "\\text{where}&, \\nonumber \\\\\n",
    "L_s &= \\text{static lift load (lbf)}, \\nonumber \\\\\n",
    "C_{LS} &= \\text{coefficient of lift, static (lbf)}, \\nonumber \\\\\n",
    "S &= \\text{airfoil surface area (in}^2\\text{)}, \\text{and} \\nonumber \\\\\n",
    "q &= \\text{fluid dynamic pressure (psi)}. \\nonumber\n",
    "\\end{align}"
   ]
  },
  {
   "cell_type": "markdown",
   "metadata": {
    "hide_input": true
   },
   "source": [
    "References:\n",
    "\n",
    "* https://en.wikipedia.org/wiki/Lift_coefficient accessed 2019-11-26\n",
    "    * Abbott, Ira H., and Doenhoff, Albert E. von: Theory of Wing Sections. Section 1.2\n",
    "    * Clancy, L. J.: Aerodynamics. Section 8.11\n",
    "\n"
   ]
  },
  {
   "cell_type": "markdown",
   "metadata": {
    "hide_input": false
   },
   "source": [
    "Airfoil surface area, $S$ is defined in equation \\eqref{lab_S} from dimensions illustrated in Figure \\ref{lab_Dimensions}. Overall airfoil area is the area of the rectangular portion plus the area of the triangular portion."
   ]
  },
  {
   "cell_type": "markdown",
   "metadata": {},
   "source": [
    "\\begin{align}\n",
    "S &= b \\ C_T + \\frac{b \\ (C_R - C_T)}{2} \\\\\n",
    "&= b \\ C_T + \\frac{b \\ C_R - b \\ C_T}{2} \\\\\n",
    "&= \\frac{2 \\ b \\ C_T}{2} + \\frac{b \\ C_R - b \\ C_T}{2} \\\\\n",
    "&= \\frac{2 \\ b \\ C_T + b \\ C_R - b \\ C_T}{2} \\\\\n",
    "&= \\frac{b \\ C_T + b \\ C_R}{2} \\\\\n",
    "&= \\frac{b \\ (C_R + C_T)}{2}\n",
    "\\label{lab_S}\\\\\n",
    "\\nonumber\n",
    "\\newline  \n",
    "\\text{where}&, \\nonumber \\\\\n",
    "S &= \\text{airfoil surface area (in}^2\\text{)}, \\nonumber \\\\\n",
    "b &= \\text{airfoil span (in)}, \\nonumber \\\\\n",
    "C_R &= \\text{airfoil root chord (in)}, \\text{and} \\nonumber \\\\\n",
    "C_T &= \\text{airfoil tip chord (in)}. \\nonumber\n",
    "\\end{align}"
   ]
  },
  {
   "cell_type": "markdown",
   "metadata": {},
   "source": [
    "<div style=\"display: block; margin-left:auto; margin-right:auto; width:500px\"> \n",
    "    \n",
    "![Chord_Dimensions_01.PNG](images/Heli_fenestron.png \"Exciter Chord Dimensions\")\n",
    "\n",
    "</div>\n",
    "\n",
    "\\begin{align}\n",
    "\\text{ }\n",
    "\\label{lab_Dimensions}\n",
    "\\end{align}\n",
    "\n",
    "<div style=\"text-align: center;\">\n",
    "Figure \\ref{lab_Dimensions}: SCG Chord Dimensions.\n",
    "</div>"
   ]
  },
  {
   "cell_type": "code",
   "execution_count": 39,
   "metadata": {
    "hide_input": false
   },
   "outputs": [
    {
     "data": {
      "text/latex": [
       "\\begin{align}\n",
       "L_{s} &= C_{LS} S q\n",
       "\\label{lab2_L_s}\\\\\n",
       "\\end{align}"
      ],
      "text/plain": [
       "<IPython.core.display.Latex object>"
      ]
     },
     "execution_count": 39,
     "metadata": {},
     "output_type": "execute_result"
    }
   ],
   "source": [
    "L_s, C_LS, q, S = symbols('L_s C_LS q S') #define symbolic variables\n",
    "eq_L_s = Eq(L_s, C_LS*q*S) #symbolic equality\n",
    "Latex(r\"\"\"\\begin{align}\n",
    "%s &= %s\n",
    "\\label{lab2_L_s}\\\\\n",
    "\\end{align}\"\"\" % (latex(L_s),latex(eq_L_s.rhs)) )"
   ]
  },
  {
   "cell_type": "code",
   "execution_count": 40,
   "metadata": {},
   "outputs": [
    {
     "data": {
      "text/latex": [
       "\\begin{align}\n",
       "S &= \\frac{b \\left(C_{R} + C_{T}\\right)}{2}\n",
       "\\label{lab2_S}\\\\\n",
       "\\end{align}"
      ],
      "text/plain": [
       "<IPython.core.display.Latex object>"
      ]
     },
     "execution_count": 40,
     "metadata": {},
     "output_type": "execute_result"
    }
   ],
   "source": [
    "C_R, C_T, b = symbols('C_R C_T b') #define symbolic variables\n",
    "eq_S = Eq(S,(C_R+C_T)*b/2)\n",
    "Latex(r\"\"\"\\begin{align}\n",
    "%s &= %s\n",
    "\\label{lab2_S}\\\\\n",
    "\\end{align}\"\"\" % (latex(S),latex(eq_S.rhs)) )"
   ]
  },
  {
   "cell_type": "markdown",
   "metadata": {},
   "source": [
    "Substitute airfoil size values from **Interface Control Document** and solve for S."
   ]
  },
  {
   "cell_type": "code",
   "execution_count": 41,
   "metadata": {},
   "outputs": [],
   "source": [
    "v_C_R = 8.79 #root chord, in\n",
    "v_C_T = 5.99 #tip chord, in\n",
    "v_b = 8.16 #span, in"
   ]
  },
  {
   "cell_type": "markdown",
   "metadata": {
    "variables": {
     "v_C_R": "8.79",
     "v_C_T": "5.99",
     "v_b": "8.16"
    }
   },
   "source": [
    "$C_R$ = {{v_C_R}} in\\\n",
    "$C_T$ = {{v_C_T}} in\\\n",
    "$b$ = {{v_b}} in"
   ]
  },
  {
   "cell_type": "code",
   "execution_count": 42,
   "metadata": {},
   "outputs": [],
   "source": [
    "#substitute values and solve for S\n",
    "subs_S = eq_S.subs([(C_R, v_C_R), (C_T, v_C_T), (b, v_b)])\n",
    "set_S = solveset(subs_S,S) #returns a set object\n",
    "for v_S in set_S: #get first item from the set\n",
    "    break\n",
    "    \n",
    "m_S=latex(\"$S = %i$ in2\" %v_S)"
   ]
  },
  {
   "cell_type": "markdown",
   "metadata": {
    "variables": {
     "m_S": "$S = 60$ in2"
    }
   },
   "source": [
    "Substitute dimensional values to get, {{m_S}}."
   ]
  },
  {
   "cell_type": "code",
   "execution_count": 43,
   "metadata": {
    "scrolled": true
   },
   "outputs": [],
   "source": [
    "#substitute values and solve for L_s\n",
    "subs_L_s=eq_L_s.subs([(S, v_S), (C_LS, v_C_LS), (q, v_q/144)]) #static lift load, lbf\n",
    "set_L_s = solveset(subs_L_s,L_s) #returns a set object\n",
    "for v_L_s in set_L_s: #get first item from the set\n",
    "    break\n",
    "\n",
    "m_L_s=latex(r\"$L_s = %i \\ \\text{lbf}$\" %v_L_s)"
   ]
  },
  {
   "cell_type": "markdown",
   "metadata": {
    "variables": {
     "m_L_s": "$L_s = 205 \\ \\text{lbf}$"
    }
   },
   "source": [
    "Therefore, airfoil static lift load, {{m_L_s}}."
   ]
  },
  {
   "cell_type": "markdown",
   "metadata": {},
   "source": [
    "### Airfoil Dynamic Load"
   ]
  },
  {
   "cell_type": "markdown",
   "metadata": {},
   "source": [
    "Dynamic lift load can be obtained from dynamic root bending moment. Dynamic lift load is per equation \\eqref{lab_L_d}."
   ]
  },
  {
   "cell_type": "markdown",
   "metadata": {},
   "source": [
    "\\begin{align}\n",
    "L_d &= C_{Ld} S q\n",
    "\\label{lab_L_d}\\\\\n",
    "\\nonumber\n",
    "\\newline  \n",
    "\\text{where}&, \\nonumber \\\\\n",
    "L_d &= \\text{dynamic lift load (lbf)}, \\nonumber \\\\\n",
    "C_{Ld} &= \\text{coefficient of lift, dynamic}, \\nonumber \\\\\n",
    "S &= \\text{airfoil surface area (in}^2\\text{)}, \\nonumber \\\\\n",
    "q &= \\text{fluid dynamic pressure (psi)} \\nonumber\n",
    "\\end{align}"
   ]
  },
  {
   "cell_type": "markdown",
   "metadata": {},
   "source": [
    "From flight test we have an estimate for dynamic root bending coefficient, $C_{MB}$. Dynamic root bending moment, $M$, about the airfoil root is defined in terms of $C_{MB}$ per equation \\eqref{lab_M}."
   ]
  },
  {
   "cell_type": "markdown",
   "metadata": {},
   "source": [
    "\\begin{align}\n",
    "M &= (F) \\ d \\\\\n",
    "&= (F) \\ b \\\\\n",
    "&= (C_{MB} \\ S \\ q) \\ b\n",
    "\\label{lab_M}\\\\\n",
    "\\nonumber\n",
    "\\newline  \n",
    "\\text{where}&, \\nonumber \\\\\n",
    "M &= \\text{moment (lbf-in)}, \\nonumber \\\\\n",
    "F &= \\text{force (lbf)}, \\nonumber \\\\\n",
    "d &= \\text{distance from line of action of force F to root (in)}, \\nonumber \\\\\n",
    "b &= \\text{airfoil span (in)}, \\nonumber \\\\\n",
    "C_{MB} &= \\text{dynamic root bending moment coefficient}, \\nonumber \\\\\n",
    "S &= \\text{airfoil surface area (in}^2\\text{)}, \\nonumber \\\\\n",
    "q &= \\text{fluid dynamic pressure (psi)} \\nonumber\n",
    "\\end{align}"
   ]
  },
  {
   "cell_type": "markdown",
   "metadata": {},
   "source": [
    "Dynamic lift load from equation \\eqref{lab_L_d} can be related to bending moment about the airfoil root, $M$, by equation \\eqref{lab2_M}."
   ]
  },
  {
   "cell_type": "markdown",
   "metadata": {},
   "source": [
    "\\begin{align}\n",
    "M &= (F) \\ d \\\\\n",
    "&= (L_d) \\ d \\\\\n",
    "&= (L_d) \\ X_0\n",
    "\\label{lab2_M}\\\\\n",
    "\\nonumber\n",
    "\\newline  \n",
    "\\text{where}&, \\nonumber \\\\\n",
    "X_0 &= \\text{distance from root to centroid (in)} \\nonumber \\\\\n",
    "\\nonumber\n",
    "\\newline\n",
    "\\text{solving for }L_d&, \\nonumber \\\\\n",
    "L_d &= \\frac{M}{X_0}\n",
    "\\label{lab2_L_d}\\\\\n",
    "\\nonumber\n",
    "\\end{align}"
   ]
  },
  {
   "cell_type": "markdown",
   "metadata": {},
   "source": [
    "Deriving the distance from root to centroid, $X_0$ by considering the airfoil as a combination of a rectangular shape and a triangle shape:"
   ]
  },
  {
   "cell_type": "code",
   "execution_count": 44,
   "metadata": {},
   "outputs": [
    {
     "data": {
      "text/latex": [
       "$\\displaystyle X_{0} = \\frac{A_{A} \\bar{x}_{A} + A_{B} \\bar{x}_{B}}{A_{A} + A_{B}}$"
      ],
      "text/plain": [
       "Eq(X_0, (A_A*xbar_A + A_B*xbar_B)/(A_A + A_B))"
      ]
     },
     "execution_count": 44,
     "metadata": {},
     "output_type": "execute_result"
    }
   ],
   "source": [
    "X_0 = symbols('X_0') #airfoil spanwise centroid, overall (in)\n",
    "xbar_A = symbols('xbar_A') #airfoil spanwise centroid for triangular section (in)\n",
    "xbar_B = symbols('xbar_B') #airfoil spanwise centroid for rectangular section (in)\n",
    "A_A = symbols('A_A') #airfoil area for triangular section (in)\n",
    "A_B = symbols('A_B') #airfoil area for rectangular section (in)\n",
    "\n",
    "eq_X_0 = Eq(X_0,(A_A*xbar_A+A_B*xbar_B)/(A_A + A_B))\n",
    "eq_X_0"
   ]
  },
  {
   "cell_type": "code",
   "execution_count": 45,
   "metadata": {},
   "outputs": [
    {
     "data": {
      "text/latex": [
       "$\\displaystyle \\bar{x}_{A} = \\frac{b}{3}$"
      ],
      "text/plain": [
       "Eq(xbar_A, b/3)"
      ]
     },
     "execution_count": 45,
     "metadata": {},
     "output_type": "execute_result"
    }
   ],
   "source": [
    "#airfoil spanwise centroid for triangular section (in)\n",
    "eq_xbar_A = Eq(xbar_A,b/3) #equality\n",
    "sym_xbar_A = solve(eq_xbar_A,xbar_A)[0] #first solution, substitutable\n",
    "eq_xbar_A"
   ]
  },
  {
   "cell_type": "code",
   "execution_count": 46,
   "metadata": {},
   "outputs": [
    {
     "data": {
      "text/latex": [
       "$\\displaystyle \\bar{x}_{B} = \\frac{b}{2}$"
      ],
      "text/plain": [
       "Eq(xbar_B, b/2)"
      ]
     },
     "execution_count": 46,
     "metadata": {},
     "output_type": "execute_result"
    }
   ],
   "source": [
    "#airfoil spanwise centroid for rectangular section (in)\n",
    "eq_xbar_B = Eq(xbar_B,b/2) #equality\n",
    "sym_xbar_B = solve(eq_xbar_B,xbar_B)[0] #first solution, substitutable\n",
    "eq_xbar_B"
   ]
  },
  {
   "cell_type": "code",
   "execution_count": 47,
   "metadata": {
    "scrolled": true
   },
   "outputs": [
    {
     "data": {
      "text/latex": [
       "$\\displaystyle A_{A} = \\frac{b \\left(C_{R} - C_{T}\\right)}{2}$"
      ],
      "text/plain": [
       "Eq(A_A, b*(C_R - C_T)/2)"
      ]
     },
     "execution_count": 47,
     "metadata": {},
     "output_type": "execute_result"
    }
   ],
   "source": [
    "#airfoil area for triangular section (in)\n",
    "eq_A_A = Eq(A_A,b*(C_R-C_T)/2) #equality\n",
    "sym_A_A = solve(eq_A_A,A_A)[0] #first solution, substitutable\n",
    "eq_A_A #for display"
   ]
  },
  {
   "cell_type": "code",
   "execution_count": 48,
   "metadata": {},
   "outputs": [
    {
     "data": {
      "text/latex": [
       "$\\displaystyle A_{B} = C_{T} b$"
      ],
      "text/plain": [
       "Eq(A_B, C_T*b)"
      ]
     },
     "execution_count": 48,
     "metadata": {},
     "output_type": "execute_result"
    }
   ],
   "source": [
    "#airfoil area for rectangular section (in)\n",
    "eq_A_B = Eq(A_B,b*C_T) #equality\n",
    "sym_A_B = solve(eq_A_B,A_B)[0] #first solution, substitutable\n",
    "eq_A_B #for display"
   ]
  },
  {
   "cell_type": "code",
   "execution_count": 49,
   "metadata": {},
   "outputs": [
    {
     "data": {
      "text/latex": [
       "\\begin{align}\n",
       "X_{0} &= \\frac{\\frac{C_{T} b^{2}}{2} + \\frac{b^{2} \\left(C_{R} - C_{T}\\right)}{6}}{C_{T} b + \\frac{b \\left(C_{R} - C_{T}\\right)}{2}}\n",
       "\\label{lab2_X_0}\\\\\n",
       "\\end{align}"
      ],
      "text/plain": [
       "<IPython.core.display.Latex object>"
      ]
     },
     "execution_count": 49,
     "metadata": {},
     "output_type": "execute_result"
    }
   ],
   "source": [
    "eq2_X_0 = eq_X_0.subs([(A_A, sym_A_A), (A_B, sym_A_B), (xbar_A, sym_xbar_A), (xbar_B, sym_xbar_B)])\n",
    "Latex(r\"\"\"\\begin{align}\n",
    "%s &= %s\n",
    "\\label{lab2_X_0}\\\\\n",
    "\\end{align}\"\"\" % (latex(X_0),latex(eq2_X_0.rhs)) )"
   ]
  },
  {
   "cell_type": "markdown",
   "metadata": {},
   "source": [
    "Simplifying, the distance from root to centroid, $X_0$, is shown in equation \\eqref{lab_X_0}."
   ]
  },
  {
   "cell_type": "code",
   "execution_count": 50,
   "metadata": {},
   "outputs": [
    {
     "data": {
      "text/latex": [
       "\\begin{align}\n",
       "X_{0} &= \\frac{b \\left(C_{R} + 2 C_{T}\\right)}{3 \\left(C_{R} + C_{T}\\right)}\n",
       "\\label{lab_X_0}\\\\\n",
       "\\end{align}"
      ],
      "text/plain": [
       "<IPython.core.display.Latex object>"
      ]
     },
     "execution_count": 50,
     "metadata": {},
     "output_type": "execute_result"
    }
   ],
   "source": [
    "eq3_X_0 = simplify(eq2_X_0)\n",
    "Latex(r\"\"\"\\begin{align}\n",
    "%s &= %s\n",
    "\\label{lab_X_0}\\\\\n",
    "\\end{align}\"\"\" % (latex(X_0),latex(eq3_X_0.rhs)) )"
   ]
  },
  {
   "cell_type": "code",
   "execution_count": 51,
   "metadata": {
    "scrolled": true
   },
   "outputs": [],
   "source": [
    "#substitute values and solve for X_0\n",
    "subs_X_0=eq3_X_0.subs([(C_R, v_C_R), (C_T, v_C_T), (b, v_b)])\n",
    "set_X_0 = solveset(subs_X_0,X_0) #returns a set object\n",
    "for v_X_0 in set_X_0: #get first item from the set\n",
    "    break\n",
    "\n",
    "m_X_0=latex(r\"$X_0 = %1.2f \\ \\text{in}$\" %v_X_0)"
   ]
  },
  {
   "cell_type": "markdown",
   "metadata": {
    "variables": {
     "m_X_0": "$X_0 = 3.82 \\ \\text{in}$"
    }
   },
   "source": [
    "\n",
    "Therefore, distance from root to centroid, {{m_X_0}}."
   ]
  },
  {
   "cell_type": "markdown",
   "metadata": {},
   "source": [
    "Set dynamic lift load from equation \\eqref{lab_L_d} equal to that from \\eqref{lab2_L_d}, replace $M$ per equation \\eqref{lab_M}, then solve for $C_{Ld}$ to get equation \\eqref{lab_C_Ld}.:"
   ]
  },
  {
   "cell_type": "markdown",
   "metadata": {},
   "source": [
    "\\begin{align}\n",
    "C_{Ld} S q &= \\frac{M}{X_0} \\\\\n",
    "C_{Ld} S q &= \\frac{(C_{MB} \\ S \\ q) \\ b}{X_0} \\\\\n",
    "C_{Ld} &= \\frac{C_{MB} \\ b}{X_0}\n",
    "\\label{lab_C_Ld}\\\\\n",
    "\\end{align}"
   ]
  },
  {
   "cell_type": "code",
   "execution_count": 52,
   "metadata": {},
   "outputs": [
    {
     "data": {
      "text/latex": [
       "$\\displaystyle C_{Ld} S q = \\frac{C_{MB} S b q}{X_{0}}$"
      ],
      "text/plain": [
       "Eq(C_Ld*S*q, C_MB*S*b*q/X_0)"
      ]
     },
     "execution_count": 52,
     "metadata": {},
     "output_type": "execute_result"
    }
   ],
   "source": [
    "C_MB = symbols('C_MB') #coefficient of moment, root bending\n",
    "C_Ld = symbols('C_Ld') #coefficient of lift, dynamic\n",
    "eq_C_Ld = Eq(C_Ld*q*S,C_MB*S*q*b/X_0)\n",
    "eq_C_Ld"
   ]
  },
  {
   "cell_type": "code",
   "execution_count": 53,
   "metadata": {
    "scrolled": true
   },
   "outputs": [
    {
     "data": {
      "text/latex": [
       "$\\displaystyle C_{Ld} = \\frac{C_{MB} b}{X_{0}}$"
      ],
      "text/plain": [
       "Eq(C_Ld, C_MB*b/X_0)"
      ]
     },
     "execution_count": 53,
     "metadata": {},
     "output_type": "execute_result"
    }
   ],
   "source": [
    "set_C_Ld = solveset(eq_C_Ld,C_Ld) #returns a set object\n",
    "for res_C_Ld in set_C_Ld: #get first item from the set\n",
    "    break\n",
    "eq2_C_Ld = Eq(C_Ld,res_C_Ld)\n",
    "eq2_C_Ld"
   ]
  },
  {
   "cell_type": "code",
   "execution_count": 54,
   "metadata": {
    "scrolled": true
   },
   "outputs": [],
   "source": [
    "#substitute values and solve for C_Ld\n",
    "subs_C_Ld=eq2_C_Ld.subs([(C_MB, v_C_MB), (X_0, v_X_0), (b, v_b)])\n",
    "set_C_Ld = solveset(subs_C_Ld,C_Ld) #returns a set object\n",
    "for v_C_Ld in set_C_Ld: #get first item from the set\n",
    "    break\n",
    "\n",
    "m_C_Ld=latex(r\"$C_{Ld} = %1.2f$\" %v_C_Ld)"
   ]
  },
  {
   "cell_type": "markdown",
   "metadata": {
    "variables": {
     "m_C_Ld": "$C_{Ld} = 0.34$"
    }
   },
   "source": [
    "Therefore, coefficient of lift, dynamic, {{m_C_Ld}}."
   ]
  },
  {
   "cell_type": "markdown",
   "metadata": {},
   "source": [
    "Now substitute values into equation \\eqref{lab_L_d} to get $L_d$"
   ]
  },
  {
   "cell_type": "code",
   "execution_count": 55,
   "metadata": {
    "scrolled": true
   },
   "outputs": [
    {
     "data": {
      "text/latex": [
       "\\begin{align}\n",
       "L_{d} &= C_{Ld} S q\n",
       "\\label{lab3_L_d}\\\\\n",
       "\\end{align}"
      ],
      "text/plain": [
       "<IPython.core.display.Latex object>"
      ]
     },
     "execution_count": 55,
     "metadata": {},
     "output_type": "execute_result"
    }
   ],
   "source": [
    "L_d = symbols('L_d')\n",
    "eq_L_d=Eq(L_d,C_Ld*S*q)\n",
    "Latex(r\"\"\"\\begin{align}\n",
    "%s &= %s\n",
    "\\label{lab3_L_d}\\\\\n",
    "\\end{align}\"\"\" % (latex(L_d),latex(eq_L_d.rhs)) )"
   ]
  },
  {
   "cell_type": "code",
   "execution_count": 56,
   "metadata": {
    "scrolled": false
   },
   "outputs": [],
   "source": [
    "#substitute values and solve for C_Ld\n",
    "subs_L_d=eq_L_d.subs([(C_Ld, v_C_Ld), (S, v_S), (q, v_q/144)])\n",
    "set_L_d = solveset(subs_L_d,L_d) #returns a set object\n",
    "for v_L_d in set_L_d: #get first item from the set\n",
    "    break\n",
    "\n",
    "m_L_d=latex(r\"$L_{d} = %1.0f \\ \\text{lbf}$\" %v_L_d)"
   ]
  },
  {
   "cell_type": "markdown",
   "metadata": {
    "variables": {
     "m_L_d": "$L_{d} = 100 \\ \\text{lbf}$"
    }
   },
   "source": [
    "\n",
    "Therefore, airfoil dynamic lift load, {{m_L_d}}."
   ]
  },
  {
   "cell_type": "markdown",
   "metadata": {},
   "source": [
    "### Total Airfoil Lift"
   ]
  },
  {
   "cell_type": "markdown",
   "metadata": {},
   "source": [
    "Total lift load on airfoil, $L_A$ is defined in equation \\eqref{lab_L_A}."
   ]
  },
  {
   "cell_type": "code",
   "execution_count": 57,
   "metadata": {},
   "outputs": [
    {
     "data": {
      "text/latex": [
       "\\begin{align}\n",
       "L_{A} &= \\frac{L_{d}}{2} + L_{s}\n",
       "\\label{lab_L_A}\\\\\n",
       "\\end{align}"
      ],
      "text/plain": [
       "<IPython.core.display.Latex object>"
      ]
     },
     "execution_count": 57,
     "metadata": {},
     "output_type": "execute_result"
    }
   ],
   "source": [
    "L_A = symbols('L_A')\n",
    "eq_L_A=Eq(L_A,L_s+L_d/2)\n",
    "Latex(r\"\"\"\\begin{align}\n",
    "%s &= %s\n",
    "\\label{lab_L_A}\\\\\n",
    "\\end{align}\"\"\" % (latex(L_A),latex(eq_L_A.rhs)) )"
   ]
  },
  {
   "cell_type": "code",
   "execution_count": 58,
   "metadata": {},
   "outputs": [],
   "source": [
    "subs_L_A=eq_L_A.subs([(L_s, v_L_s), (L_d, v_L_d)])\n",
    "set_L_A = solveset(subs_L_A,L_A) #returns a set object\n",
    "for v_L_A in set_L_A: #get first item from the set\n",
    "    break\n",
    "    \n",
    "m_L_A=latex(r\"$L_{A} = %1.0f \\ \\text{lbf}$\" %v_L_A)"
   ]
  },
  {
   "cell_type": "markdown",
   "metadata": {
    "variables": {
     "m_L_A": "$L_{A} = 255 \\ \\text{lbf}$"
    }
   },
   "source": [
    "Substituting values into equation \\eqref{lab_L_A} to get {{m_L_A}}."
   ]
  },
  {
   "cell_type": "markdown",
   "metadata": {},
   "source": [
    "### Total Cylinder Lift"
   ]
  },
  {
   "cell_type": "markdown",
   "metadata": {},
   "source": [
    "Total lift load on cylinder, $L_{Cyl}$ is defined in equation \\eqref{lab_L_Cyl}."
   ]
  },
  {
   "cell_type": "code",
   "execution_count": 59,
   "metadata": {},
   "outputs": [
    {
     "data": {
      "text/latex": [
       "\\begin{align}\n",
       "L_{Cyl} &= \\frac{L_{d}}{2}\n",
       "\\label{lab_L_Cyl}\\\\\n",
       "\\end{align}"
      ],
      "text/plain": [
       "<IPython.core.display.Latex object>"
      ]
     },
     "execution_count": 59,
     "metadata": {},
     "output_type": "execute_result"
    }
   ],
   "source": [
    "L_Cyl = symbols('L_Cyl')\n",
    "eq_L_Cyl=Eq(L_Cyl,L_d/2)\n",
    "Latex(r\"\"\"\\begin{align}\n",
    "%s &= %s\n",
    "\\label{lab_L_Cyl}\\\\\n",
    "\\end{align}\"\"\" % (latex(L_Cyl),latex(eq_L_Cyl.rhs)) )"
   ]
  },
  {
   "cell_type": "code",
   "execution_count": 60,
   "metadata": {},
   "outputs": [],
   "source": [
    "subs_L_Cyl=eq_L_Cyl.subs([(L_d, v_L_d)])\n",
    "set_L_Cyl = solveset(subs_L_Cyl,L_Cyl) #returns a solution set object\n",
    "for v_L_Cyl in set_L_Cyl: #get first item from the set\n",
    "    break\n",
    "    \n",
    "m_L_Cyl=latex(r\"$L_{Cyl} = %1.0f \\ \\text{lbf}$\" %v_L_Cyl)"
   ]
  },
  {
   "cell_type": "markdown",
   "metadata": {
    "variables": {
     "m_L_Cyl": "$L_{Cyl} = 50 \\ \\text{lbf}$"
    }
   },
   "source": [
    "Substituting values into equation \\eqref{lab_L_Cyl} to get {{m_L_Cyl}}."
   ]
  },
  {
   "cell_type": "markdown",
   "metadata": {},
   "source": [
    "### Airfoil Bending Moment"
   ]
  },
  {
   "cell_type": "markdown",
   "metadata": {},
   "source": [
    "Loads into the airfoil are due to $L_A$ which acts at the center of pressure, and, assuming that the cylinder is a simply\n",
    "supported beam, $\\frac{L_{Cyl}}{2}$."
   ]
  },
  {
   "cell_type": "markdown",
   "metadata": {},
   "source": [
    "Moments at various sections are calculated per equation \\eqref{lab3_M}"
   ]
  },
  {
   "cell_type": "markdown",
   "metadata": {},
   "source": [
    "\\begin{align}\n",
    "M &= L_A \\cdot \\frac{A}{A_{total}} \\cdot d_{cp} + \\frac{L_{Cyl}}{2} \\cdot h\n",
    "\\label{lab3_M}\\\\\n",
    "\\nonumber\n",
    "\\newline  \n",
    "\\text{where}&, \\nonumber \\\\\n",
    "M &= \\text{moment at any section (in-lbf)}, \\nonumber \\\\\n",
    "A &= \\text{area of the section (in}^2\\text{)}, \\nonumber \\\\\n",
    "A_{total} &= \\text{airfoil area (in}^2\\text{)}, \\nonumber \\\\\n",
    "d_{cp} &= \\text{distance to the centroid of the section area (in)}, \\text{and} \\nonumber \\\\\n",
    "h &= \\text{distance from the airfoil tip to the section (in)}. \\nonumber\n",
    "\\end{align}"
   ]
  },
  {
   "cell_type": "markdown",
   "metadata": {},
   "source": [
    "Area, $A$, is calculateable from dimensions $a$, $b$ and $h$ in diagram \\ref{lab_AirfoilBendingMoment}."
   ]
  },
  {
   "cell_type": "markdown",
   "metadata": {},
   "source": [
    "<div style=\"display: block; margin-left:auto; margin-right:auto; width:500px\"> \n",
    "    \n",
    "![Airfoil_Bending_Moment_01.PNG](images/512px-Aerosol_spray_top_luxrender_(with_numbers).png \"Airfoil Bending Moment Diagram\")\n",
    "\n",
    "</div>\n",
    "\n",
    "\\begin{align}\n",
    "\\text{ }\n",
    "\\label{lab_AirfoilBendingMoment}\n",
    "\\end{align}\n",
    "\n",
    "<div style=\"text-align: center;\">\n",
    "Figure \\ref{lab_AirfoilBendingMoment}: Airfoil bending moment dimension diagram.\n",
    "</div>"
   ]
  },
  {
   "cell_type": "markdown",
   "metadata": {},
   "source": [
    "Simple bending stress $\\sigma$ is per \\eqref{lab_sigma}:"
   ]
  },
  {
   "cell_type": "code",
   "execution_count": 61,
   "metadata": {},
   "outputs": [
    {
     "data": {
      "text/latex": [
       "\\begin{align}\n",
       "\\sigma &= \\frac{M c}{I}\n",
       "\\label{lab_sigma}\\\\\n",
       "\\nonumber\n",
       "\\newline  \n",
       "\\text{where}&, \\nonumber \\\\\n",
       "\\sigma &= \\text{bending stress (psi)}, \\nonumber \\\\\n",
       "M &= \\text{local bending moment (in-lbf)}, \\nonumber \\\\\n",
       "c &= \\text{distance from the neutral axis to the extreme fiber (in)}, \\text{and} \\nonumber \\\\\n",
       "I &= \\text{area moment of inertia (in}^4\\text{)}. \\nonumber\n",
       "\\end{align}"
      ],
      "text/plain": [
       "<IPython.core.display.Latex object>"
      ]
     },
     "execution_count": 61,
     "metadata": {},
     "output_type": "execute_result"
    }
   ],
   "source": [
    "sigma, c, I, M = symbols('sigma c I M')\n",
    "eq_sigma = Eq(sigma,M*c/I)\n",
    "sym_sigma = solve(eq_sigma,sigma)[0] #first solution, substitutable\n",
    "Latex(r\"\"\"\\begin{align}\n",
    "%s &= %s\n",
    "\\label{lab_sigma}\\\\\n",
    "\\nonumber\n",
    "\\newline  \n",
    "\\text{where}&, \\nonumber \\\\\n",
    "\\sigma &= \\text{bending stress (psi)}, \\nonumber \\\\\n",
    "M &= \\text{local bending moment (in-lbf)}, \\nonumber \\\\\n",
    "c &= \\text{distance from the neutral axis to the extreme fiber (in)}, \\text{and} \\nonumber \\\\\n",
    "I &= \\text{area moment of inertia (in}^4\\text{)}. \\nonumber\n",
    "\\end{align}\"\"\" % (latex(sigma),latex(sym_sigma)) )"
   ]
  },
  {
   "cell_type": "markdown",
   "metadata": {},
   "source": [
    "TO DO: Moments at various sections are calculated by spreadsheet separately using dimensions $a$, $b$ and $h$ and cross-sectional properties $I$ and $c$ obtained from the 3D CAD model."
   ]
  },
  {
   "cell_type": "markdown",
   "metadata": {},
   "source": [
    "### Rotating Mass Loads"
   ]
  },
  {
   "cell_type": "code",
   "execution_count": null,
   "metadata": {},
   "outputs": [],
   "source": []
  }
 ],
 "metadata": {
  "hide_input": false,
  "kernelspec": {
   "display_name": "Python 3",
   "language": "python",
   "name": "python3"
  },
  "language_info": {
   "codemirror_mode": {
    "name": "ipython",
    "version": 3
   },
   "file_extension": ".py",
   "mimetype": "text/x-python",
   "name": "python",
   "nbconvert_exporter": "python",
   "pygments_lexer": "ipython3",
   "version": "3.7.7"
  },
  "latex_envs": {
   "LaTeX_envs_menu_present": true,
   "autoclose": false,
   "autocomplete": true,
   "bibliofile": "biblio.bib",
   "cite_by": "apalike",
   "current_citInitial": 1,
   "eqLabelWithNumbers": true,
   "eqNumInitial": 1,
   "hotkeys": {
    "equation": "Ctrl-E",
    "itemize": "Ctrl-I"
   },
   "labels_anchors": false,
   "latex_user_defs": false,
   "report_style_numbering": false,
   "user_envs_cfg": false
  },
  "toc": {
   "base_numbering": 1,
   "nav_menu": {},
   "number_sections": true,
   "sideBar": true,
   "skip_h1_title": false,
   "title_cell": "Table of Contents",
   "title_sidebar": "Contents",
   "toc_cell": false,
   "toc_position": {
    "height": "calc(100% - 180px)",
    "left": "10px",
    "top": "150px",
    "width": "384px"
   },
   "toc_section_display": true,
   "toc_window_display": true
  }
 },
 "nbformat": 4,
 "nbformat_minor": 4
}
