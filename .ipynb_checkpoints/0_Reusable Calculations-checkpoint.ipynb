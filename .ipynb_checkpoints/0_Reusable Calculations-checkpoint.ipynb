{
 "cells": [
  {
   "cell_type": "markdown",
   "metadata": {},
   "source": [
    "Run the following 2 cells to export this document as PDF, without input cells. Currently, the \"Save as\" option from the menu bar doesn't work as well."
   ]
  },
  {
   "cell_type": "code",
   "execution_count": 29,
   "metadata": {},
   "outputs": [
    {
     "data": {
      "application/javascript": [
       "IPython.notebook.kernel.execute('strNotebookName = \"' + IPython.notebook.notebook_name + '\"')\n"
      ],
      "text/plain": [
       "<IPython.core.display.Javascript object>"
      ]
     },
     "metadata": {},
     "output_type": "display_data"
    }
   ],
   "source": [
    "%%javascript\n",
    "IPython.notebook.kernel.execute('strNotebookName = \"' + IPython.notebook.notebook_name + '\"')"
   ]
  },
  {
   "cell_type": "code",
   "execution_count": 31,
   "metadata": {},
   "outputs": [],
   "source": [
    "#Export current notebook as PDF without tagged cells\n",
    "#only show error messages in stderr\n",
    "strNotebookName2 = '\"' + strNotebookName + '\"' #filenames with spaces need to be wrapped in double quotes\n",
    "!jupyter nbconvert $strNotebookName2 \\\n",
    "--TagRemovePreprocessor.remove_cell_tags=\"['remove_cell']\" \\\n",
    "--to pdf \\\n",
    "--log-level ERROR \\\n",
    "--no-input\n",
    "#--TemplateExporter.exclude_input=True"
   ]
  },
  {
   "cell_type": "markdown",
   "metadata": {},
   "source": [
    "# Run from here down"
   ]
  },
  {
   "cell_type": "code",
   "execution_count": 1,
   "metadata": {},
   "outputs": [],
   "source": [
    "import math\n",
    "from sympy import *\n",
    "from sympy import symbols\n",
    "from IPython.display import display, Math, Latex, Markdown"
   ]
  },
  {
   "cell_type": "markdown",
   "metadata": {},
   "source": [
    "# Factor of Safety"
   ]
  },
  {
   "cell_type": "markdown",
   "metadata": {},
   "source": [
    "## Definition"
   ]
  },
  {
   "cell_type": "markdown",
   "metadata": {},
   "source": [
    "Factor of Safety is defined in equation \\eqref{lab_FS}:"
   ]
  },
  {
   "cell_type": "code",
   "execution_count": 2,
   "metadata": {
    "scrolled": true
   },
   "outputs": [
    {
     "data": {
      "text/latex": [
       "\\begin{align}\n",
       "FS &= \\frac{C_{fail}}{C_{worst}}\n",
       "\\label{lab_FS}\\\\\n",
       "\\nonumber\n",
       "\\newline  \n",
       "\\text{where}&, \\nonumber \\\\\n",
       "FS &= \\text{Factor of Safety}, \\nonumber \\\\\n",
       "C_{fail} &= \\text{defined failure condition (yield, buckling, critical deflection...)}, \\nonumber \\\\\n",
       "C_{worst} &= \\text{\"worst case\" condition (stress, force, deflection...) under harshest service}. \\nonumber\n",
       "\\end{align}"
      ],
      "text/plain": [
       "<IPython.core.display.Latex object>"
      ]
     },
     "execution_count": 2,
     "metadata": {},
     "output_type": "execute_result"
    }
   ],
   "source": [
    "FS, C_fail, C_worst = symbols('FS C_fail C_worst') #define symbolic variables\n",
    "eq_FS = Eq(FS, C_fail/C_worst) #symbolic equality\n",
    "Latex(r\"\"\"\\begin{align}\n",
    "%s &= %s\n",
    "\\label{lab_FS}\\\\\n",
    "\\nonumber\n",
    "\\newline  \n",
    "\\text{where}&, \\nonumber \\\\\n",
    "FS &= \\text{Factor of Safety}, \\nonumber \\\\\n",
    "C_{fail} &= \\text{defined failure condition (yield, buckling, critical deflection...)}, \\nonumber \\\\\n",
    "C_{worst} &= \\text{\"worst case\" condition (stress, force, deflection...) under harshest service}. \\nonumber\n",
    "\\end{align}\"\"\" % (latex(FS),latex(eq_FS.rhs)) )"
   ]
  },
  {
   "cell_type": "markdown",
   "metadata": {},
   "source": [
    "> The \"defined failure condition\" in equation \\eqref{lab_FS} is a value such as a yield stress or buckling force or critical deflection or temperature, etc., that constitutes failure of the structure. The \"worst case condition\" is an estimate of the actual stress level (or force or temperature or deflection, etc.) that occurs in the component when the estimated harshest loading, which the structure will ever be subjected to in service, is applied. An FS value substantially greater than \"1.0\" provides for adequate separation between the failure condition and worst case condition and is necessary because the estimates of these conditions have some degree of uncertainty.\n",
    ">\n",
    "> A Factor of Safety should be computed whenever the limiting condition is a failure\n",
    "condition (such as a yield or ultimate strength, buckling or collapse load, etc.). Minimum\n",
    "acceptable values for Factor of Safety are defined elsewhere.\n",
    ">\n",
    "> &mdash; <cite>MODEL STRESS REPORT REQUIREMENTS – ADDENDUM, Tunnel_9_Model_Stress_Analysis_Reporting_addendum_Rev4.pdf, Date:4/28/2008</cite>\n",
    ">"
   ]
  },
  {
   "cell_type": "markdown",
   "metadata": {},
   "source": [
    "## Inputs"
   ]
  },
  {
   "cell_type": "code",
   "execution_count": 3,
   "metadata": {},
   "outputs": [],
   "source": [
    "v_C_fail = 36000 #psi, yield stress\n",
    "m_C_fail=latex(r\"$C_{fail} = %1.0f \\ \\text{psi}$\" %v_C_fail) #formatting for display"
   ]
  },
  {
   "cell_type": "markdown",
   "metadata": {
    "variables": {
     "m_C_fail": "$C_{fail} = 36000 \\ \\text{psi}$"
    }
   },
   "source": [
    "{{m_C_fail}}"
   ]
  },
  {
   "cell_type": "code",
   "execution_count": 4,
   "metadata": {},
   "outputs": [],
   "source": [
    "v_C_worst = 12500 #psi, worst case stress\n",
    "m_C_worst=latex(r\"$C_{worst} = %1.0f \\ \\text{psi}$\" %v_C_worst) #formatting for display"
   ]
  },
  {
   "cell_type": "markdown",
   "metadata": {
    "variables": {
     "m_C_worst": "$C_{worst} = 12500 \\ \\text{psi}$"
    }
   },
   "source": [
    "{{m_C_worst}}"
   ]
  },
  {
   "cell_type": "markdown",
   "metadata": {},
   "source": [
    "## Calculation"
   ]
  },
  {
   "cell_type": "code",
   "execution_count": 5,
   "metadata": {},
   "outputs": [],
   "source": [
    "#substitute values and solve for S\n",
    "with evaluate(False): #prevent simplification\n",
    "    subs_FS = eq_FS.subs([(C_fail, v_C_fail), (C_worst, v_C_worst)])\n",
    "    \n",
    "set_FS = solveset(subs_FS,FS) #returns a set object\n",
    "for v_FS in set_FS: #get first item from the set\n",
    "    break\n",
    "    \n",
    "m_FS=latex(\"$FS = %1.1f$\" %(math.floor(v_FS*10)/10.0)) #don't round factor of safety up"
   ]
  },
  {
   "cell_type": "code",
   "execution_count": 6,
   "metadata": {},
   "outputs": [
    {
     "data": {
      "text/latex": [
       "\\begin{align}\n",
       "FS &= \\frac{C_{fail}}{C_{worst}} \\\\\n",
       "&= \\frac{36000}{12500} \\\\\n",
       "&= 2.88\n",
       "\\label{lab2_FS}\\\\\n",
       "\\nonumber\n",
       "\\end{align}"
      ],
      "text/plain": [
       "<IPython.core.display.Latex object>"
      ]
     },
     "execution_count": 6,
     "metadata": {},
     "output_type": "execute_result"
    }
   ],
   "source": [
    "Latex(r\"\"\"\\begin{align}\n",
    "%s &= %s \\\\\n",
    "&= %s \\\\\n",
    "&= %s\n",
    "\\label{lab2_FS}\\\\\n",
    "\\nonumber\n",
    "\\end{align}\"\"\" % (latex(FS),latex(eq_FS.rhs),latex(subs_FS.rhs),latex(float(v_FS) ) ) )"
   ]
  },
  {
   "cell_type": "markdown",
   "metadata": {},
   "source": [
    "## Results"
   ]
  },
  {
   "cell_type": "markdown",
   "metadata": {
    "variables": {
     "m_FS": "$FS = 2.8$"
    }
   },
   "source": [
    "Therefore, on XXXXXXXXX: {{m_FS}}."
   ]
  },
  {
   "cell_type": "markdown",
   "metadata": {},
   "source": [
    "# Margin of Safety"
   ]
  },
  {
   "cell_type": "markdown",
   "metadata": {},
   "source": [
    "## Definition"
   ]
  },
  {
   "cell_type": "markdown",
   "metadata": {},
   "source": [
    "Margin of Safety is defined in equation \\eqref{lab_MS}:"
   ]
  },
  {
   "cell_type": "code",
   "execution_count": 7,
   "metadata": {
    "scrolled": true
   },
   "outputs": [
    {
     "data": {
      "text/latex": [
       "\\begin{align}\n",
       "MS &= \\frac{C_{allow}}{C_{worst}} - 1\n",
       "\\label{lab_MS}\\\\\n",
       "\\nonumber\n",
       "\\newline  \n",
       "\\text{where}&, \\nonumber \\\\\n",
       "MS &= \\text{Margin of Safety}, \\nonumber \\\\\n",
       "C_{allow} &= \\text{defined allowable condition (design allowable stress, working load rating...)}, \\nonumber \\\\\n",
       "C_{worst} &= \\text{\"worst case\" condition (stress, force, deflection...under harshest service)}. \\nonumber\n",
       "\\end{align}"
      ],
      "text/plain": [
       "<IPython.core.display.Latex object>"
      ]
     },
     "execution_count": 7,
     "metadata": {},
     "output_type": "execute_result"
    }
   ],
   "source": [
    "MS, C_allow, C_worst = symbols('MS C_allow C_worst') #define symbolic variables\n",
    "eq_MS = Eq(MS, (C_allow/C_worst)-1) #symbolic equality\n",
    "Latex(r\"\"\"\\begin{align}\n",
    "%s &= %s\n",
    "\\label{lab_MS}\\\\\n",
    "\\nonumber\n",
    "\\newline  \n",
    "\\text{where}&, \\nonumber \\\\\n",
    "MS &= \\text{Margin of Safety}, \\nonumber \\\\\n",
    "C_{allow} &= \\text{defined allowable condition (design allowable stress, working load rating...)}, \\nonumber \\\\\n",
    "C_{worst} &= \\text{\"worst case\" condition (stress, force, deflection...under harshest service)}. \\nonumber\n",
    "\\end{align}\"\"\" % (latex(MS),latex(eq_MS.rhs)) )"
   ]
  },
  {
   "cell_type": "markdown",
   "metadata": {},
   "source": [
    ">The \"allowable\" condition does NOT constitute a failure condition, but rather is a maximum safe condition. The \"allowable\" includes an implicit factor of safety which provides the necessary separation from the failure condition. A positive (or zero) MS value indicates that a stress, or force or temperature or deflection, etc., does not exceed the allowable condition. A negative MS indicates the stress, or force or temperature, etc., exceeds the allowable condition. By its definition an Margin of Safety is acceptable if it is positive (or zero) and unacceptable if it is negative. Margins of Safety will typically be applied to commercial parts that have a manufacturer's maximum safe load rating.\n",
    ">\n",
    ">A Margin of Safety should be computed whenever the limiting condition is an allowable\n",
    "condition (such as a design allowable stress specified in a welding or pressure vessel code, or a\n",
    "working load rating of a commercial component).\n",
    ">\n",
    "> &mdash; <cite>MODEL STRESS REPORT REQUIREMENTS – ADDENDUM, Tunnel_9_Model_Stress_Analysis_Reporting_addendum_Rev4.pdf, Date:4/28/2008</cite>"
   ]
  },
  {
   "cell_type": "markdown",
   "metadata": {},
   "source": [
    "## Inputs"
   ]
  },
  {
   "cell_type": "code",
   "execution_count": 8,
   "metadata": {},
   "outputs": [],
   "source": [
    "v_C_allow = 36000 #psi, yield stress\n",
    "m_C_allow=latex(r\"$C_{allow} = %1.0f \\ \\text{psi}$\" %v_C_allow) #formatting for display"
   ]
  },
  {
   "cell_type": "markdown",
   "metadata": {
    "variables": {
     "m_C_allow": "$C_{allow} = 36000 \\ \\text{psi}$"
    }
   },
   "source": [
    "{{m_C_allow}}"
   ]
  },
  {
   "cell_type": "code",
   "execution_count": 9,
   "metadata": {},
   "outputs": [],
   "source": [
    "v_C_worst = 12500 #psi, worst case stress\n",
    "m_C_worst=latex(r\"$C_{worst} = %1.0f \\ \\text{psi}$\" %v_C_worst) #formatting for display"
   ]
  },
  {
   "cell_type": "markdown",
   "metadata": {
    "variables": {
     "m_C_worst": "$C_{worst} = 12500 \\ \\text{psi}$"
    }
   },
   "source": [
    "{{m_C_worst}}"
   ]
  },
  {
   "cell_type": "markdown",
   "metadata": {},
   "source": [
    "## Calculation"
   ]
  },
  {
   "cell_type": "code",
   "execution_count": 11,
   "metadata": {},
   "outputs": [],
   "source": [
    "#substitute values and solve for S\n",
    "with evaluate(False): #prevent simplification\n",
    "    subs_MS = eq_MS.subs([(C_allow, v_C_allow), (C_worst, v_C_worst)])\n",
    "    \n",
    "set_MS = solveset(subs_MS,MS) #returns a set object\n",
    "for v_MS in set_MS: #get first item from the set\n",
    "    break\n",
    "    \n",
    "m_MS=latex(\"$MS = %1.1f$\" %(math.floor(v_MS*10)/10.0)) #don't round up"
   ]
  },
  {
   "cell_type": "code",
   "execution_count": 12,
   "metadata": {},
   "outputs": [
    {
     "data": {
      "text/latex": [
       "\\begin{align}\n",
       "MS &= \\frac{C_{allow}}{C_{worst}} - 1 \\\\\n",
       "&= -1 + \\frac{36000}{12500} \\\\\n",
       "&= 1.88\n",
       "\\label{lab2_MS}\\\\\n",
       "\\nonumber\n",
       "\\end{align}"
      ],
      "text/plain": [
       "<IPython.core.display.Latex object>"
      ]
     },
     "execution_count": 12,
     "metadata": {},
     "output_type": "execute_result"
    }
   ],
   "source": [
    "Latex(r\"\"\"\\begin{align}\n",
    "%s &= %s \\\\\n",
    "&= %s \\\\\n",
    "&= %s\n",
    "\\label{lab2_MS}\\\\\n",
    "\\nonumber\n",
    "\\end{align}\"\"\" % (latex(MS),latex(eq_MS.rhs),latex(subs_MS.rhs),latex(float(v_MS) ) ) )"
   ]
  },
  {
   "cell_type": "markdown",
   "metadata": {},
   "source": [
    "## Results"
   ]
  },
  {
   "cell_type": "markdown",
   "metadata": {
    "variables": {
     "m_MS": "$MS = 1.8$"
    }
   },
   "source": [
    "Therefore, on XXXXXXXXX: {{m_MS}}."
   ]
  },
  {
   "cell_type": "code",
   "execution_count": null,
   "metadata": {},
   "outputs": [],
   "source": []
  },
  {
   "cell_type": "code",
   "execution_count": null,
   "metadata": {},
   "outputs": [],
   "source": []
  },
  {
   "cell_type": "code",
   "execution_count": null,
   "metadata": {},
   "outputs": [],
   "source": []
  },
  {
   "cell_type": "code",
   "execution_count": null,
   "metadata": {},
   "outputs": [],
   "source": []
  },
  {
   "cell_type": "code",
   "execution_count": null,
   "metadata": {},
   "outputs": [],
   "source": []
  },
  {
   "cell_type": "code",
   "execution_count": null,
   "metadata": {},
   "outputs": [],
   "source": []
  },
  {
   "cell_type": "markdown",
   "metadata": {},
   "source": [
    "Max. Allowable Design Stress = syield/2 or sult./3 whichever is lower\n",
    "(Von Mises or Tresca)"
   ]
  },
  {
   "cell_type": "code",
   "execution_count": null,
   "metadata": {},
   "outputs": [],
   "source": []
  },
  {
   "cell_type": "code",
   "execution_count": null,
   "metadata": {},
   "outputs": [],
   "source": []
  },
  {
   "cell_type": "markdown",
   "metadata": {},
   "source": [
    "# Citations"
   ]
  },
  {
   "cell_type": "markdown",
   "metadata": {},
   "source": [
    "## APA style"
   ]
  },
  {
   "cell_type": "markdown",
   "metadata": {},
   "source": [
    "[1] Oberg, E., Jones, F. D., Horton, H. L., and Ryffel, H. H. (1996). Machinery's handbook: A reference book for the mechanical engineer, designer, manufacturing engineer, draftsman, toolmaker and machinist (25th edition.). New York: Industrial Press."
   ]
  },
  {
   "cell_type": "markdown",
   "metadata": {},
   "source": [
    "[2] Shigley, J. and Mitchell, L. (1993). Mechanical engineering design. New York: McGraw-Hill."
   ]
  },
  {
   "cell_type": "markdown",
   "metadata": {},
   "source": [
    "[3]\n",
    "<cite id=\"3\">\n",
    "Roark, R. J. 1., Young, W. C., and Budynas, R. G. (2002). Roark's formulas for stress and strain (Seventh edition.). New York: McGraw-Hill.\n",
    "</cite>"
   ]
  },
  {
   "cell_type": "markdown",
   "metadata": {},
   "source": [
    "## ASME style"
   ]
  },
  {
   "cell_type": "markdown",
   "metadata": {},
   "source": [
    "Per ASME Citation Guide: https://www.asme.org/publications-submissions/proceedings/author-guidelines/elements-of-a-paper/references"
   ]
  },
  {
   "cell_type": "markdown",
   "metadata": {},
   "source": [
    "[4]\n",
    "<cite id=\"Oberg1996\">\n",
    "Oberg, Erik, Jones, Franklin D., Horton, Holbrook L., and Ryffel, Henry H.. “Strength of Materials.” Machinery's Handbook: A Reference Book for the Mechanical Engineer, Designer, Manufacturing Engineer, Draftsman, Toolmaker and Machinist (25th Edition). Industrial Press, New York (1996): pp. 197.\n",
    "</cite>"
   ]
  },
  {
   "cell_type": "code",
   "execution_count": null,
   "metadata": {},
   "outputs": [],
   "source": []
  },
  {
   "cell_type": "code",
   "execution_count": null,
   "metadata": {},
   "outputs": [],
   "source": []
  },
  {
   "cell_type": "markdown",
   "metadata": {},
   "source": [
    "http://www.holo-krome.com/pdf/Consolidated_Tech_Manual.pdf, TABLE 25 HOLO-KROME MECHANICAL PROPERTIES SOCKET HEAD CAP SCREWS – 1960 SERIES\n",
    "\n",
    "(MIL-HDBK-5J, 31 January 2003, page 2-169)\n",
    "\n",
    "Handbook of Equations for Mass and Area Properties of Various Geometrical Shapes, U.S. Naval Ordnance Test Station, 1962\n",
    "http://www.dtic.mil/dtic/tr/fulltext/u2/274936.pdf\n"
   ]
  },
  {
   "cell_type": "code",
   "execution_count": null,
   "metadata": {},
   "outputs": [],
   "source": []
  },
  {
   "cell_type": "code",
   "execution_count": null,
   "metadata": {},
   "outputs": [],
   "source": []
  },
  {
   "cell_type": "code",
   "execution_count": null,
   "metadata": {},
   "outputs": [],
   "source": []
  },
  {
   "cell_type": "code",
   "execution_count": null,
   "metadata": {},
   "outputs": [],
   "source": []
  },
  {
   "cell_type": "code",
   "execution_count": null,
   "metadata": {},
   "outputs": [],
   "source": []
  },
  {
   "cell_type": "code",
   "execution_count": null,
   "metadata": {},
   "outputs": [],
   "source": []
  }
 ],
 "metadata": {
  "hide_input": false,
  "kernelspec": {
   "display_name": "Python 3",
   "language": "python",
   "name": "python3"
  },
  "language_info": {
   "codemirror_mode": {
    "name": "ipython",
    "version": 3
   },
   "file_extension": ".py",
   "mimetype": "text/x-python",
   "name": "python",
   "nbconvert_exporter": "python",
   "pygments_lexer": "ipython3",
   "version": "3.7.5"
  },
  "latex_envs": {
   "LaTeX_envs_menu_present": true,
   "autoclose": false,
   "autocomplete": true,
   "bibliofile": "biblio.bib",
   "cite_by": "key",
   "current_citInitial": 1,
   "eqLabelWithNumbers": true,
   "eqNumInitial": 1,
   "hotkeys": {
    "equation": "Ctrl-E",
    "itemize": "Ctrl-I"
   },
   "labels_anchors": false,
   "latex_user_defs": false,
   "report_style_numbering": false,
   "user_envs_cfg": false
  },
  "toc": {
   "base_numbering": 1,
   "nav_menu": {},
   "number_sections": true,
   "sideBar": true,
   "skip_h1_title": false,
   "title_cell": "Table of Contents",
   "title_sidebar": "Contents",
   "toc_cell": false,
   "toc_position": {
    "height": "calc(100% - 180px)",
    "left": "10px",
    "top": "150px",
    "width": "384px"
   },
   "toc_section_display": true,
   "toc_window_display": true
  }
 },
 "nbformat": 4,
 "nbformat_minor": 2
}
