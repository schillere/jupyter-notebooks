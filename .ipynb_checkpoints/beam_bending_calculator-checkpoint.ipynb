{
 "cells": [
  {
   "cell_type": "markdown",
   "metadata": {},
   "source": [
    "BeamBending: a teaching aid for 1-D shear force and bending moment diagrams\n",
    "\n",
    "Alfredo R. Carella1\n",
    "\n",
    "1 OsloMet - Oslo Metropolitan University\n",
    "\n",
    "from https://notebooks.gesis.org/binder/jupyter/user/alfredocarella--bendingpractice-gnyd97rw/notebooks/simple_demo.ipynb\n",
    "\n",
    "https://jose.theoj.org/papers/10.21105/jose.00065"
   ]
  },
  {
   "cell_type": "markdown",
   "metadata": {
    "ExecuteTime": {
     "end_time": "2018-08-02T13:35:01.752519Z",
     "start_time": "2018-08-02T13:35:01.747883Z"
    }
   },
   "source": [
    "# Beam bending calculator\n",
    "\n",
    "* Leave *lines 1-6 and 21-23 as they are*; they ensure that all necessary modules are imported and active.\n",
    "\n",
    "* Whatever code is written to the right of the numeral sign (**#**) is a comment. These comments are not executed, so you can safely ignore or delete them.\n",
    "\n",
    "The current code reproduces [this example](https://alfredocarella.github.io/simplebendingpractice/examples/example_1.html)."
   ]
  },
  {
   "cell_type": "code",
   "execution_count": null,
   "metadata": {
    "ExecuteTime": {
     "end_time": "2019-05-08T12:22:38.894727Z",
     "start_time": "2019-05-08T12:22:37.765381Z"
    }
   },
   "outputs": [],
   "source": [
    "# Initialization (leave this section as it is, unless you know what you are doing)\n",
    "!pip install -q beambending\n",
    "%matplotlib inline\n",
    "from beambending import Beam, DistributedLoadH, DistributedLoadV, PointLoadH, PointLoadV, PointTorque, x\n",
    "\n",
    "\n",
    "# Go on and play around with the values in this section. See what happens!\n",
    "### ------------------------------------------------------------------------ ###\n",
    "beam = Beam(9)\n",
    "beam.pinned_support = 2    # x-coordinate of the pinned support\n",
    "beam.rolling_support = 7  # x-coordinate of the rolling support\n",
    "beam.add_loads((\n",
    "                PointLoadH(10, 3),  # 10kN pointing right, at x=3m\n",
    "                PointLoadV(-20, 3),  # 20kN downwards, at x=3m\n",
    "                DistributedLoadV(-10, (3, 9)),  # 10 kN/m, downwards, for 3m <= x <= 9m\n",
    "                DistributedLoadV(-20 + x**2, (0, 2)),  # variable load, for 0m <= x <= 2m\n",
    "))\n",
    "### ------------------------------------------------------------------------ ###\n",
    "\n",
    "\n",
    "# Output generation (leave this section as it is, unless you know what you are doing)\n",
    "fig = beam.plot()\n",
    "fig.savefig(\"./results.pdf\")"
   ]
  },
  {
   "cell_type": "markdown",
   "metadata": {},
   "source": [
    "Click the link to download [a pdf file with your case results](./results.pdf \"Come on and click! You know you want to.\"). <-- __doesn't work in Google Colab__"
   ]
  },
  {
   "cell_type": "markdown",
   "metadata": {},
   "source": [
    "You can now go back up and continue to play around choosing different loads, beam lengths and placement of the beam supports.\n",
    "Add as many loads as you want to the list (but don't forget to put a comma between two loads).\n",
    "\n",
    "After you have made some changes, run the code cell again to calculate your new results.\n",
    "\n",
    "When you are comfortable with that, check what happens if you try more interesting expressions for the distributed loads, for example:\n",
    "\n",
    "```python\n",
    "DistributedLoadV(\"2 * x**2 + cos(5)\", (0, 3))\n",
    "```\n",
    "By the way, a double asterisk is how you write a power in Python: ```\"2 * x**2 + cos(5)\"``` means $2x^2 + \\cos(5)$\n",
    "\n",
    "**Note:** you can also try to include trigonometric functions, but in this case the whole mathematical expression __must be surrounded by quotation marks__, just as in the example above."
   ]
  }
 ],
 "metadata": {
  "hide_input": false,
  "kernelspec": {
   "display_name": "Python 3",
   "language": "python",
   "name": "python3"
  },
  "language_info": {
   "codemirror_mode": {
    "name": "ipython",
    "version": 3
   },
   "file_extension": ".py",
   "mimetype": "text/x-python",
   "name": "python",
   "nbconvert_exporter": "python",
   "pygments_lexer": "ipython3",
   "version": "3.7.7"
  },
  "toc": {
   "base_numbering": 1,
   "nav_menu": {},
   "number_sections": true,
   "sideBar": true,
   "skip_h1_title": false,
   "title_cell": "Table of Contents",
   "title_sidebar": "Contents",
   "toc_cell": false,
   "toc_position": {},
   "toc_section_display": true,
   "toc_window_display": false
  },
  "varInspector": {
   "cols": {
    "lenName": 16,
    "lenType": 16,
    "lenVar": 40
   },
   "kernels_config": {
    "python": {
     "delete_cmd_postfix": "",
     "delete_cmd_prefix": "del ",
     "library": "var_list.py",
     "varRefreshCmd": "print(var_dic_list())"
    },
    "r": {
     "delete_cmd_postfix": ") ",
     "delete_cmd_prefix": "rm(",
     "library": "var_list.r",
     "varRefreshCmd": "cat(var_dic_list()) "
    }
   },
   "types_to_exclude": [
    "module",
    "function",
    "builtin_function_or_method",
    "instance",
    "_Feature"
   ],
   "window_display": false
  }
 },
 "nbformat": 4,
 "nbformat_minor": 2
}
